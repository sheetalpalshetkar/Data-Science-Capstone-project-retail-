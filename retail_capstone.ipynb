{
 "cells": [
  {
   "cell_type": "code",
   "execution_count": 91,
   "metadata": {},
   "outputs": [],
   "source": [
    "import pandas as pd\n",
    "import numpy as np\n",
    "import matplotlib.pyplot as plt\n",
    "import seaborn as sns\n",
    "from sklearn.preprocessing import StandardScaler\n",
    "from sklearn.cluster import KMeans\n",
    "from sklearn.metrics import silhouette_score\n",
    "from datetime import timedelta\n",
    "from pandas import ExcelWriter"
   ]
  },
  {
   "cell_type": "code",
   "execution_count": 92,
   "metadata": {},
   "outputs": [
    {
     "data": {
      "text/html": [
       "<div>\n",
       "<style scoped>\n",
       "    .dataframe tbody tr th:only-of-type {\n",
       "        vertical-align: middle;\n",
       "    }\n",
       "\n",
       "    .dataframe tbody tr th {\n",
       "        vertical-align: top;\n",
       "    }\n",
       "\n",
       "    .dataframe thead th {\n",
       "        text-align: right;\n",
       "    }\n",
       "</style>\n",
       "<table border=\"1\" class=\"dataframe\">\n",
       "  <thead>\n",
       "    <tr style=\"text-align: right;\">\n",
       "      <th></th>\n",
       "      <th>InvoiceNo</th>\n",
       "      <th>StockCode</th>\n",
       "      <th>Description</th>\n",
       "      <th>Quantity</th>\n",
       "      <th>InvoiceDate</th>\n",
       "      <th>UnitPrice</th>\n",
       "      <th>CustomerID</th>\n",
       "      <th>Country</th>\n",
       "    </tr>\n",
       "  </thead>\n",
       "  <tbody>\n",
       "    <tr>\n",
       "      <th>0</th>\n",
       "      <td>558904</td>\n",
       "      <td>22292</td>\n",
       "      <td>HANGING CHICK  YELLOW DECORATION</td>\n",
       "      <td>1</td>\n",
       "      <td>2011-07-04 16:18:00</td>\n",
       "      <td>1.25</td>\n",
       "      <td>NaN</td>\n",
       "      <td>United Kingdom</td>\n",
       "    </tr>\n",
       "    <tr>\n",
       "      <th>1</th>\n",
       "      <td>556072</td>\n",
       "      <td>20970</td>\n",
       "      <td>PINK FLORAL FELTCRAFT SHOULDER BAG</td>\n",
       "      <td>8</td>\n",
       "      <td>2011-06-08 14:57:00</td>\n",
       "      <td>3.75</td>\n",
       "      <td>16126.0</td>\n",
       "      <td>United Kingdom</td>\n",
       "    </tr>\n",
       "    <tr>\n",
       "      <th>2</th>\n",
       "      <td>551739</td>\n",
       "      <td>21559</td>\n",
       "      <td>STRAWBERRY LUNCH BOX WITH CUTLERY</td>\n",
       "      <td>2</td>\n",
       "      <td>2011-05-04 10:58:00</td>\n",
       "      <td>2.55</td>\n",
       "      <td>18118.0</td>\n",
       "      <td>United Kingdom</td>\n",
       "    </tr>\n",
       "    <tr>\n",
       "      <th>3</th>\n",
       "      <td>541658</td>\n",
       "      <td>21988</td>\n",
       "      <td>PACK OF 6 SKULL PAPER PLATES</td>\n",
       "      <td>1</td>\n",
       "      <td>2011-01-20 12:16:00</td>\n",
       "      <td>0.85</td>\n",
       "      <td>15529.0</td>\n",
       "      <td>United Kingdom</td>\n",
       "    </tr>\n",
       "    <tr>\n",
       "      <th>4</th>\n",
       "      <td>538364</td>\n",
       "      <td>85099C</td>\n",
       "      <td>JUMBO  BAG BAROQUE BLACK WHITE</td>\n",
       "      <td>10</td>\n",
       "      <td>2010-12-10 17:26:00</td>\n",
       "      <td>1.95</td>\n",
       "      <td>14448.0</td>\n",
       "      <td>United Kingdom</td>\n",
       "    </tr>\n",
       "  </tbody>\n",
       "</table>\n",
       "</div>"
      ],
      "text/plain": [
       "  InvoiceNo StockCode                         Description  Quantity  \\\n",
       "0    558904     22292    HANGING CHICK  YELLOW DECORATION         1   \n",
       "1    556072     20970  PINK FLORAL FELTCRAFT SHOULDER BAG         8   \n",
       "2    551739     21559   STRAWBERRY LUNCH BOX WITH CUTLERY         2   \n",
       "3    541658     21988        PACK OF 6 SKULL PAPER PLATES         1   \n",
       "4    538364    85099C      JUMBO  BAG BAROQUE BLACK WHITE        10   \n",
       "\n",
       "          InvoiceDate  UnitPrice  CustomerID         Country  \n",
       "0 2011-07-04 16:18:00       1.25         NaN  United Kingdom  \n",
       "1 2011-06-08 14:57:00       3.75     16126.0  United Kingdom  \n",
       "2 2011-05-04 10:58:00       2.55     18118.0  United Kingdom  \n",
       "3 2011-01-20 12:16:00       0.85     15529.0  United Kingdom  \n",
       "4 2010-12-10 17:26:00       1.95     14448.0  United Kingdom  "
      ]
     },
     "execution_count": 92,
     "metadata": {},
     "output_type": "execute_result"
    }
   ],
   "source": [
    "df = pd.read_excel(\"retailtrain.xlsx\")\n",
    "df.head()"
   ]
  },
  {
   "cell_type": "code",
   "execution_count": 93,
   "metadata": {},
   "outputs": [
    {
     "data": {
      "text/plain": [
       "(379336, 8)"
      ]
     },
     "execution_count": 93,
     "metadata": {},
     "output_type": "execute_result"
    }
   ],
   "source": [
    "df.shape"
   ]
  },
  {
   "cell_type": "code",
   "execution_count": 94,
   "metadata": {},
   "outputs": [
    {
     "data": {
      "text/html": [
       "<div>\n",
       "<style scoped>\n",
       "    .dataframe tbody tr th:only-of-type {\n",
       "        vertical-align: middle;\n",
       "    }\n",
       "\n",
       "    .dataframe tbody tr th {\n",
       "        vertical-align: top;\n",
       "    }\n",
       "\n",
       "    .dataframe thead th {\n",
       "        text-align: right;\n",
       "    }\n",
       "</style>\n",
       "<table border=\"1\" class=\"dataframe\">\n",
       "  <thead>\n",
       "    <tr style=\"text-align: right;\">\n",
       "      <th></th>\n",
       "      <th>InvoiceNo</th>\n",
       "      <th>StockCode</th>\n",
       "      <th>Description</th>\n",
       "      <th>Quantity</th>\n",
       "      <th>InvoiceDate</th>\n",
       "      <th>UnitPrice</th>\n",
       "      <th>CustomerID</th>\n",
       "      <th>Country</th>\n",
       "    </tr>\n",
       "  </thead>\n",
       "  <tbody>\n",
       "    <tr>\n",
       "      <th>0</th>\n",
       "      <td>562955</td>\n",
       "      <td>84660c</td>\n",
       "      <td>PINK STITCHED WALL CLOCK</td>\n",
       "      <td>3</td>\n",
       "      <td>2011-08-11 10:14:00</td>\n",
       "      <td>7.46</td>\n",
       "      <td>NaN</td>\n",
       "      <td>United Kingdom</td>\n",
       "    </tr>\n",
       "    <tr>\n",
       "      <th>1</th>\n",
       "      <td>548451</td>\n",
       "      <td>22707</td>\n",
       "      <td>WRAP MONSTER FUN</td>\n",
       "      <td>50</td>\n",
       "      <td>2011-03-31 11:25:00</td>\n",
       "      <td>0.42</td>\n",
       "      <td>17365.0</td>\n",
       "      <td>United Kingdom</td>\n",
       "    </tr>\n",
       "    <tr>\n",
       "      <th>2</th>\n",
       "      <td>568180</td>\n",
       "      <td>22534</td>\n",
       "      <td>MAGIC DRAWING SLATE SPACEBOY</td>\n",
       "      <td>12</td>\n",
       "      <td>2011-09-25 13:42:00</td>\n",
       "      <td>0.42</td>\n",
       "      <td>15429.0</td>\n",
       "      <td>United Kingdom</td>\n",
       "    </tr>\n",
       "    <tr>\n",
       "      <th>3</th>\n",
       "      <td>577078</td>\n",
       "      <td>47369B</td>\n",
       "      <td>BLUE GREEN EMBROIDERY COSMETIC BAG</td>\n",
       "      <td>1</td>\n",
       "      <td>2011-11-17 15:17:00</td>\n",
       "      <td>5.79</td>\n",
       "      <td>NaN</td>\n",
       "      <td>United Kingdom</td>\n",
       "    </tr>\n",
       "    <tr>\n",
       "      <th>4</th>\n",
       "      <td>C569891</td>\n",
       "      <td>22720</td>\n",
       "      <td>SET OF 3 CAKE TINS PANTRY DESIGN</td>\n",
       "      <td>-2</td>\n",
       "      <td>2011-10-06 15:46:00</td>\n",
       "      <td>4.95</td>\n",
       "      <td>13924.0</td>\n",
       "      <td>United Kingdom</td>\n",
       "    </tr>\n",
       "  </tbody>\n",
       "</table>\n",
       "</div>"
      ],
      "text/plain": [
       "  InvoiceNo StockCode                         Description  Quantity  \\\n",
       "0    562955    84660c            PINK STITCHED WALL CLOCK         3   \n",
       "1    548451     22707                   WRAP MONSTER FUN         50   \n",
       "2    568180     22534       MAGIC DRAWING SLATE SPACEBOY         12   \n",
       "3    577078    47369B  BLUE GREEN EMBROIDERY COSMETIC BAG         1   \n",
       "4   C569891     22720   SET OF 3 CAKE TINS PANTRY DESIGN         -2   \n",
       "\n",
       "          InvoiceDate  UnitPrice  CustomerID         Country  \n",
       "0 2011-08-11 10:14:00       7.46         NaN  United Kingdom  \n",
       "1 2011-03-31 11:25:00       0.42     17365.0  United Kingdom  \n",
       "2 2011-09-25 13:42:00       0.42     15429.0  United Kingdom  \n",
       "3 2011-11-17 15:17:00       5.79         NaN  United Kingdom  \n",
       "4 2011-10-06 15:46:00       4.95     13924.0  United Kingdom  "
      ]
     },
     "execution_count": 94,
     "metadata": {},
     "output_type": "execute_result"
    }
   ],
   "source": [
    "df2 = pd.read_excel(\"retailtest.xlsx\")\n",
    "df2.head()"
   ]
  },
  {
   "cell_type": "code",
   "execution_count": 95,
   "metadata": {},
   "outputs": [
    {
     "data": {
      "text/plain": [
       "(162573, 8)"
      ]
     },
     "execution_count": 95,
     "metadata": {},
     "output_type": "execute_result"
    }
   ],
   "source": [
    "df2.shape"
   ]
  },
  {
   "cell_type": "code",
   "execution_count": 96,
   "metadata": {},
   "outputs": [
    {
     "name": "stdout",
     "output_type": "stream",
     "text": [
      "<class 'pandas.core.frame.DataFrame'>\n",
      "RangeIndex: 379336 entries, 0 to 379335\n",
      "Data columns (total 8 columns):\n",
      " #   Column       Non-Null Count   Dtype         \n",
      "---  ------       --------------   -----         \n",
      " 0   InvoiceNo    379336 non-null  object        \n",
      " 1   StockCode    379336 non-null  object        \n",
      " 2   Description  378373 non-null  object        \n",
      " 3   Quantity     379336 non-null  int64         \n",
      " 4   InvoiceDate  379336 non-null  datetime64[ns]\n",
      " 5   UnitPrice    379336 non-null  float64       \n",
      " 6   CustomerID   285076 non-null  float64       \n",
      " 7   Country      379336 non-null  object        \n",
      "dtypes: datetime64[ns](1), float64(2), int64(1), object(4)\n",
      "memory usage: 23.2+ MB\n"
     ]
    }
   ],
   "source": [
    "df.info()"
   ]
  },
  {
   "cell_type": "code",
   "execution_count": 97,
   "metadata": {},
   "outputs": [
    {
     "name": "stdout",
     "output_type": "stream",
     "text": [
      "<class 'pandas.core.frame.DataFrame'>\n",
      "RangeIndex: 162573 entries, 0 to 162572\n",
      "Data columns (total 8 columns):\n",
      " #   Column       Non-Null Count   Dtype         \n",
      "---  ------       --------------   -----         \n",
      " 0   InvoiceNo    162573 non-null  object        \n",
      " 1   StockCode    162573 non-null  object        \n",
      " 2   Description  162082 non-null  object        \n",
      " 3   Quantity     162573 non-null  int64         \n",
      " 4   InvoiceDate  162573 non-null  datetime64[ns]\n",
      " 5   UnitPrice    162573 non-null  float64       \n",
      " 6   CustomerID   121753 non-null  float64       \n",
      " 7   Country      162573 non-null  object        \n",
      "dtypes: datetime64[ns](1), float64(2), int64(1), object(4)\n",
      "memory usage: 9.9+ MB\n"
     ]
    }
   ],
   "source": [
    "df2.info()"
   ]
  },
  {
   "cell_type": "code",
   "execution_count": 98,
   "metadata": {},
   "outputs": [
    {
     "data": {
      "text/plain": [
       "InvoiceNo          0\n",
       "StockCode          0\n",
       "Description      963\n",
       "Quantity           0\n",
       "InvoiceDate        0\n",
       "UnitPrice          0\n",
       "CustomerID     94260\n",
       "Country            0\n",
       "dtype: int64"
      ]
     },
     "execution_count": 98,
     "metadata": {},
     "output_type": "execute_result"
    }
   ],
   "source": [
    "#treating missing value train\n",
    "df.isnull().sum()\n"
   ]
  },
  {
   "cell_type": "code",
   "execution_count": 99,
   "metadata": {},
   "outputs": [
    {
     "data": {
      "text/plain": [
       "InvoiceNo       0.00\n",
       "StockCode       0.00\n",
       "Description     0.25\n",
       "Quantity        0.00\n",
       "InvoiceDate     0.00\n",
       "UnitPrice       0.00\n",
       "CustomerID     24.85\n",
       "Country         0.00\n",
       "dtype: float64"
      ]
     },
     "execution_count": 99,
     "metadata": {},
     "output_type": "execute_result"
    }
   ],
   "source": [
    "# Calculating the Missing Values % contribution in DF\n",
    "df_null = round(df.isnull().sum()/len(df)*100,2)\n",
    "df_null"
   ]
  },
  {
   "cell_type": "code",
   "execution_count": 100,
   "metadata": {},
   "outputs": [
    {
     "data": {
      "text/html": [
       "<div>\n",
       "<style scoped>\n",
       "    .dataframe tbody tr th:only-of-type {\n",
       "        vertical-align: middle;\n",
       "    }\n",
       "\n",
       "    .dataframe tbody tr th {\n",
       "        vertical-align: top;\n",
       "    }\n",
       "\n",
       "    .dataframe thead th {\n",
       "        text-align: right;\n",
       "    }\n",
       "</style>\n",
       "<table border=\"1\" class=\"dataframe\">\n",
       "  <thead>\n",
       "    <tr style=\"text-align: right;\">\n",
       "      <th></th>\n",
       "      <th>InvoiceNo</th>\n",
       "      <th>StockCode</th>\n",
       "      <th>Description</th>\n",
       "      <th>Quantity</th>\n",
       "      <th>InvoiceDate</th>\n",
       "      <th>UnitPrice</th>\n",
       "      <th>CustomerID</th>\n",
       "      <th>Country</th>\n",
       "    </tr>\n",
       "  </thead>\n",
       "  <tbody>\n",
       "  </tbody>\n",
       "</table>\n",
       "</div>"
      ],
      "text/plain": [
       "Empty DataFrame\n",
       "Columns: [InvoiceNo, StockCode, Description, Quantity, InvoiceDate, UnitPrice, CustomerID, Country]\n",
       "Index: []"
      ]
     },
     "execution_count": 100,
     "metadata": {},
     "output_type": "execute_result"
    }
   ],
   "source": [
    "invoice_null_custid = set(df[df['CustomerID'].isnull()]['InvoiceNo'])\n",
    "df[df['InvoiceNo'].isin(invoice_null_custid) & (~df['CustomerID'].isnull())]"
   ]
  },
  {
   "cell_type": "code",
   "execution_count": 101,
   "metadata": {},
   "outputs": [
    {
     "data": {
      "text/plain": [
       "(285076, 7)"
      ]
     },
     "execution_count": 101,
     "metadata": {},
     "output_type": "execute_result"
    }
   ],
   "source": [
    "#drop description from train \n",
    "df = df.drop('Description', axis=1)\n",
    "df = df.dropna()\n",
    "df.shape"
   ]
  },
  {
   "cell_type": "code",
   "execution_count": 102,
   "metadata": {},
   "outputs": [
    {
     "data": {
      "text/plain": [
       "InvoiceNo          0\n",
       "StockCode          0\n",
       "Description      491\n",
       "Quantity           0\n",
       "InvoiceDate        0\n",
       "UnitPrice          0\n",
       "CustomerID     40820\n",
       "Country            0\n",
       "dtype: int64"
      ]
     },
     "execution_count": 102,
     "metadata": {},
     "output_type": "execute_result"
    }
   ],
   "source": [
    "#treating missing value test\n",
    "df2.isnull().sum()\n"
   ]
  },
  {
   "cell_type": "code",
   "execution_count": 103,
   "metadata": {},
   "outputs": [
    {
     "data": {
      "text/plain": [
       "InvoiceNo       0.00\n",
       "StockCode       0.00\n",
       "Description     0.30\n",
       "Quantity        0.00\n",
       "InvoiceDate     0.00\n",
       "UnitPrice       0.00\n",
       "CustomerID     25.11\n",
       "Country         0.00\n",
       "dtype: float64"
      ]
     },
     "execution_count": 103,
     "metadata": {},
     "output_type": "execute_result"
    }
   ],
   "source": [
    "# Calculating the Missing Values % contribution in DF\n",
    "df2_null = round(df2.isnull().sum()/len(df2)*100,2)\n",
    "df2_null"
   ]
  },
  {
   "cell_type": "code",
   "execution_count": 104,
   "metadata": {},
   "outputs": [
    {
     "data": {
      "text/html": [
       "<div>\n",
       "<style scoped>\n",
       "    .dataframe tbody tr th:only-of-type {\n",
       "        vertical-align: middle;\n",
       "    }\n",
       "\n",
       "    .dataframe tbody tr th {\n",
       "        vertical-align: top;\n",
       "    }\n",
       "\n",
       "    .dataframe thead th {\n",
       "        text-align: right;\n",
       "    }\n",
       "</style>\n",
       "<table border=\"1\" class=\"dataframe\">\n",
       "  <thead>\n",
       "    <tr style=\"text-align: right;\">\n",
       "      <th></th>\n",
       "      <th>InvoiceNo</th>\n",
       "      <th>StockCode</th>\n",
       "      <th>Description</th>\n",
       "      <th>Quantity</th>\n",
       "      <th>InvoiceDate</th>\n",
       "      <th>UnitPrice</th>\n",
       "      <th>CustomerID</th>\n",
       "      <th>Country</th>\n",
       "    </tr>\n",
       "  </thead>\n",
       "  <tbody>\n",
       "  </tbody>\n",
       "</table>\n",
       "</div>"
      ],
      "text/plain": [
       "Empty DataFrame\n",
       "Columns: [InvoiceNo, StockCode, Description, Quantity, InvoiceDate, UnitPrice, CustomerID, Country]\n",
       "Index: []"
      ]
     },
     "execution_count": 104,
     "metadata": {},
     "output_type": "execute_result"
    }
   ],
   "source": [
    "invoice_null_custid2 = set(df2[df2['CustomerID'].isnull()]['InvoiceNo'])\n",
    "df2[df2['InvoiceNo'].isin(invoice_null_custid2) & (~df2['CustomerID'].isnull())]"
   ]
  },
  {
   "cell_type": "code",
   "execution_count": 105,
   "metadata": {},
   "outputs": [
    {
     "data": {
      "text/plain": [
       "(121753, 7)"
      ]
     },
     "execution_count": 105,
     "metadata": {},
     "output_type": "execute_result"
    }
   ],
   "source": [
    "# drop description from test\n",
    "df2 = df2.drop('Description', axis=1)\n",
    "df2 = df2.dropna()\n",
    "df2.shape"
   ]
  },
  {
   "cell_type": "markdown",
   "metadata": {},
   "source": [
    "b) Remove duplicate data records: Since our data is transactional data and it has duplicate entries for InvoiceNo and CustomerID, we will drop only those rows which are completely duplicated, not on the basis of any one particular column such as InvoiceNo or CustomerID etc."
   ]
  },
  {
   "cell_type": "code",
   "execution_count": 106,
   "metadata": {},
   "outputs": [
    {
     "data": {
      "text/plain": [
       "(282418, 7)"
      ]
     },
     "execution_count": 106,
     "metadata": {},
     "output_type": "execute_result"
    }
   ],
   "source": [
    "df = df.drop_duplicates()\n",
    "df.shape"
   ]
  },
  {
   "cell_type": "code",
   "execution_count": 107,
   "metadata": {},
   "outputs": [
    {
     "data": {
      "text/plain": [
       "(121285, 7)"
      ]
     },
     "execution_count": 107,
     "metadata": {},
     "output_type": "execute_result"
    }
   ],
   "source": [
    "df2 = df2.drop_duplicates()\n",
    "df2.shape"
   ]
  },
  {
   "cell_type": "markdown",
   "metadata": {},
   "source": [
    "(c) Perform descriptive anaylysis on the given data:"
   ]
  },
  {
   "cell_type": "code",
   "execution_count": 108,
   "metadata": {},
   "outputs": [],
   "source": [
    "# CustomerID is 'float64', changing the datatype of CustomerId to string as Customer ID as numerical data does not make sense\n",
    "\n",
    "df['CustomerID'] = df['CustomerID'].astype(str)"
   ]
  },
  {
   "cell_type": "code",
   "execution_count": 109,
   "metadata": {},
   "outputs": [],
   "source": [
    "df2['CustomerID'] = df2['CustomerID'].astype(str)"
   ]
  },
  {
   "cell_type": "code",
   "execution_count": 110,
   "metadata": {},
   "outputs": [
    {
     "data": {
      "text/html": [
       "<div>\n",
       "<style scoped>\n",
       "    .dataframe tbody tr th:only-of-type {\n",
       "        vertical-align: middle;\n",
       "    }\n",
       "\n",
       "    .dataframe tbody tr th {\n",
       "        vertical-align: top;\n",
       "    }\n",
       "\n",
       "    .dataframe thead th {\n",
       "        text-align: right;\n",
       "    }\n",
       "</style>\n",
       "<table border=\"1\" class=\"dataframe\">\n",
       "  <thead>\n",
       "    <tr style=\"text-align: right;\">\n",
       "      <th></th>\n",
       "      <th>Quantity</th>\n",
       "      <th>InvoiceDate</th>\n",
       "      <th>UnitPrice</th>\n",
       "    </tr>\n",
       "  </thead>\n",
       "  <tbody>\n",
       "    <tr>\n",
       "      <th>count</th>\n",
       "      <td>282418.000000</td>\n",
       "      <td>282418</td>\n",
       "      <td>282418.000000</td>\n",
       "    </tr>\n",
       "    <tr>\n",
       "      <th>mean</th>\n",
       "      <td>12.109295</td>\n",
       "      <td>2011-07-10 07:59:46.268285952</td>\n",
       "      <td>3.526324</td>\n",
       "    </tr>\n",
       "    <tr>\n",
       "      <th>min</th>\n",
       "      <td>-80995.000000</td>\n",
       "      <td>2010-12-01 08:26:00</td>\n",
       "      <td>0.000000</td>\n",
       "    </tr>\n",
       "    <tr>\n",
       "      <th>25%</th>\n",
       "      <td>2.000000</td>\n",
       "      <td>2011-04-06 13:33:00</td>\n",
       "      <td>1.250000</td>\n",
       "    </tr>\n",
       "    <tr>\n",
       "      <th>50%</th>\n",
       "      <td>5.000000</td>\n",
       "      <td>2011-07-29 12:41:00</td>\n",
       "      <td>1.950000</td>\n",
       "    </tr>\n",
       "    <tr>\n",
       "      <th>75%</th>\n",
       "      <td>12.000000</td>\n",
       "      <td>2011-10-20 11:17:00</td>\n",
       "      <td>3.750000</td>\n",
       "    </tr>\n",
       "    <tr>\n",
       "      <th>max</th>\n",
       "      <td>80995.000000</td>\n",
       "      <td>2011-12-09 12:50:00</td>\n",
       "      <td>38970.000000</td>\n",
       "    </tr>\n",
       "    <tr>\n",
       "      <th>std</th>\n",
       "      <td>297.109685</td>\n",
       "      <td>NaN</td>\n",
       "      <td>80.691536</td>\n",
       "    </tr>\n",
       "  </tbody>\n",
       "</table>\n",
       "</div>"
      ],
      "text/plain": [
       "            Quantity                    InvoiceDate      UnitPrice\n",
       "count  282418.000000                         282418  282418.000000\n",
       "mean       12.109295  2011-07-10 07:59:46.268285952       3.526324\n",
       "min    -80995.000000            2010-12-01 08:26:00       0.000000\n",
       "25%         2.000000            2011-04-06 13:33:00       1.250000\n",
       "50%         5.000000            2011-07-29 12:41:00       1.950000\n",
       "75%        12.000000            2011-10-20 11:17:00       3.750000\n",
       "max     80995.000000            2011-12-09 12:50:00   38970.000000\n",
       "std       297.109685                            NaN      80.691536"
      ]
     },
     "execution_count": 110,
     "metadata": {},
     "output_type": "execute_result"
    }
   ],
   "source": [
    "df.describe(datetime_is_numeric=True)"
   ]
  },
  {
   "cell_type": "code",
   "execution_count": 111,
   "metadata": {},
   "outputs": [
    {
     "data": {
      "text/html": [
       "<div>\n",
       "<style scoped>\n",
       "    .dataframe tbody tr th:only-of-type {\n",
       "        vertical-align: middle;\n",
       "    }\n",
       "\n",
       "    .dataframe tbody tr th {\n",
       "        vertical-align: top;\n",
       "    }\n",
       "\n",
       "    .dataframe thead th {\n",
       "        text-align: right;\n",
       "    }\n",
       "</style>\n",
       "<table border=\"1\" class=\"dataframe\">\n",
       "  <thead>\n",
       "    <tr style=\"text-align: right;\">\n",
       "      <th></th>\n",
       "      <th>Quantity</th>\n",
       "      <th>InvoiceDate</th>\n",
       "      <th>UnitPrice</th>\n",
       "    </tr>\n",
       "  </thead>\n",
       "  <tbody>\n",
       "    <tr>\n",
       "      <th>count</th>\n",
       "      <td>121285.000000</td>\n",
       "      <td>121285</td>\n",
       "      <td>121285.000000</td>\n",
       "    </tr>\n",
       "    <tr>\n",
       "      <th>mean</th>\n",
       "      <td>12.174391</td>\n",
       "      <td>2011-07-11 02:01:08.914540032</td>\n",
       "      <td>3.333832</td>\n",
       "    </tr>\n",
       "    <tr>\n",
       "      <th>min</th>\n",
       "      <td>-2000.000000</td>\n",
       "      <td>2010-12-01 08:26:00</td>\n",
       "      <td>0.000000</td>\n",
       "    </tr>\n",
       "    <tr>\n",
       "      <th>25%</th>\n",
       "      <td>2.000000</td>\n",
       "      <td>2011-04-07 11:30:00</td>\n",
       "      <td>1.250000</td>\n",
       "    </tr>\n",
       "    <tr>\n",
       "      <th>50%</th>\n",
       "      <td>5.000000</td>\n",
       "      <td>2011-07-31 15:31:00</td>\n",
       "      <td>1.950000</td>\n",
       "    </tr>\n",
       "    <tr>\n",
       "      <th>75%</th>\n",
       "      <td>12.000000</td>\n",
       "      <td>2011-10-20 14:41:00</td>\n",
       "      <td>3.750000</td>\n",
       "    </tr>\n",
       "    <tr>\n",
       "      <th>max</th>\n",
       "      <td>3114.000000</td>\n",
       "      <td>2011-12-09 12:50:00</td>\n",
       "      <td>8142.750000</td>\n",
       "    </tr>\n",
       "    <tr>\n",
       "      <th>std</th>\n",
       "      <td>43.437378</td>\n",
       "      <td>NaN</td>\n",
       "      <td>30.895324</td>\n",
       "    </tr>\n",
       "  </tbody>\n",
       "</table>\n",
       "</div>"
      ],
      "text/plain": [
       "            Quantity                    InvoiceDate      UnitPrice\n",
       "count  121285.000000                         121285  121285.000000\n",
       "mean       12.174391  2011-07-11 02:01:08.914540032       3.333832\n",
       "min     -2000.000000            2010-12-01 08:26:00       0.000000\n",
       "25%         2.000000            2011-04-07 11:30:00       1.250000\n",
       "50%         5.000000            2011-07-31 15:31:00       1.950000\n",
       "75%        12.000000            2011-10-20 14:41:00       3.750000\n",
       "max      3114.000000            2011-12-09 12:50:00    8142.750000\n",
       "std        43.437378                            NaN      30.895324"
      ]
     },
     "execution_count": 111,
     "metadata": {},
     "output_type": "execute_result"
    }
   ],
   "source": [
    "df2.describe(datetime_is_numeric=True)"
   ]
  },
  {
   "cell_type": "markdown",
   "metadata": {},
   "source": [
    "Quantity: Average quantity of each product in transaction is 12.17. Also note that minimum value in Quantity column is negative. This implies that some customers had returned the product during our period of analysis.\n",
    "InvoiceDate: Our data has transaction between 01-12-2010 to 09-12-2011\n",
    "UnitPrice: Average price of each product in transactions is 3.33"
   ]
  },
  {
   "cell_type": "code",
   "execution_count": 112,
   "metadata": {},
   "outputs": [
    {
     "data": {
      "text/html": [
       "<div>\n",
       "<style scoped>\n",
       "    .dataframe tbody tr th:only-of-type {\n",
       "        vertical-align: middle;\n",
       "    }\n",
       "\n",
       "    .dataframe tbody tr th {\n",
       "        vertical-align: top;\n",
       "    }\n",
       "\n",
       "    .dataframe thead th {\n",
       "        text-align: right;\n",
       "    }\n",
       "</style>\n",
       "<table border=\"1\" class=\"dataframe\">\n",
       "  <thead>\n",
       "    <tr style=\"text-align: right;\">\n",
       "      <th></th>\n",
       "      <th>InvoiceNo</th>\n",
       "      <th>StockCode</th>\n",
       "      <th>CustomerID</th>\n",
       "      <th>Country</th>\n",
       "    </tr>\n",
       "  </thead>\n",
       "  <tbody>\n",
       "    <tr>\n",
       "      <th>count</th>\n",
       "      <td>282418</td>\n",
       "      <td>282418</td>\n",
       "      <td>282418</td>\n",
       "      <td>282418</td>\n",
       "    </tr>\n",
       "    <tr>\n",
       "      <th>unique</th>\n",
       "      <td>20980</td>\n",
       "      <td>3631</td>\n",
       "      <td>4353</td>\n",
       "      <td>37</td>\n",
       "    </tr>\n",
       "    <tr>\n",
       "      <th>top</th>\n",
       "      <td>580727</td>\n",
       "      <td>85123A</td>\n",
       "      <td>17841.0</td>\n",
       "      <td>United Kingdom</td>\n",
       "    </tr>\n",
       "    <tr>\n",
       "      <th>freq</th>\n",
       "      <td>388</td>\n",
       "      <td>1439</td>\n",
       "      <td>5511</td>\n",
       "      <td>251047</td>\n",
       "    </tr>\n",
       "  </tbody>\n",
       "</table>\n",
       "</div>"
      ],
      "text/plain": [
       "        InvoiceNo StockCode CustomerID         Country\n",
       "count      282418    282418     282418          282418\n",
       "unique      20980      3631       4353              37\n",
       "top        580727    85123A    17841.0  United Kingdom\n",
       "freq          388      1439       5511          251047"
      ]
     },
     "execution_count": 112,
     "metadata": {},
     "output_type": "execute_result"
    }
   ],
   "source": [
    "df.describe(include=['O'])\n",
    "\n"
   ]
  },
  {
   "cell_type": "code",
   "execution_count": 113,
   "metadata": {},
   "outputs": [
    {
     "data": {
      "text/html": [
       "<div>\n",
       "<style scoped>\n",
       "    .dataframe tbody tr th:only-of-type {\n",
       "        vertical-align: middle;\n",
       "    }\n",
       "\n",
       "    .dataframe tbody tr th {\n",
       "        vertical-align: top;\n",
       "    }\n",
       "\n",
       "    .dataframe thead th {\n",
       "        text-align: right;\n",
       "    }\n",
       "</style>\n",
       "<table border=\"1\" class=\"dataframe\">\n",
       "  <thead>\n",
       "    <tr style=\"text-align: right;\">\n",
       "      <th></th>\n",
       "      <th>InvoiceNo</th>\n",
       "      <th>StockCode</th>\n",
       "      <th>CustomerID</th>\n",
       "      <th>Country</th>\n",
       "    </tr>\n",
       "  </thead>\n",
       "  <tbody>\n",
       "    <tr>\n",
       "      <th>count</th>\n",
       "      <td>121285</td>\n",
       "      <td>121285</td>\n",
       "      <td>121285</td>\n",
       "      <td>121285</td>\n",
       "    </tr>\n",
       "    <tr>\n",
       "      <th>unique</th>\n",
       "      <td>18209</td>\n",
       "      <td>3419</td>\n",
       "      <td>4224</td>\n",
       "      <td>37</td>\n",
       "    </tr>\n",
       "    <tr>\n",
       "      <th>top</th>\n",
       "      <td>579196</td>\n",
       "      <td>85123A</td>\n",
       "      <td>17841.0</td>\n",
       "      <td>United Kingdom</td>\n",
       "    </tr>\n",
       "    <tr>\n",
       "      <th>freq</th>\n",
       "      <td>170</td>\n",
       "      <td>630</td>\n",
       "      <td>2380</td>\n",
       "      <td>107748</td>\n",
       "    </tr>\n",
       "  </tbody>\n",
       "</table>\n",
       "</div>"
      ],
      "text/plain": [
       "        InvoiceNo StockCode CustomerID         Country\n",
       "count      121285    121285     121285          121285\n",
       "unique      18209      3419       4224              37\n",
       "top        579196    85123A    17841.0  United Kingdom\n",
       "freq          170       630       2380          107748"
      ]
     },
     "execution_count": 113,
     "metadata": {},
     "output_type": "execute_result"
    }
   ],
   "source": [
    "df2.describe(include=['O'])"
   ]
  },
  {
   "cell_type": "markdown",
   "metadata": {},
   "source": [
    "(B) Data Transformation\n",
    "(2) Perform Cohort Analysis\n",
    "\n",
    "(a) Create month cohort of customers and analyze active customers in each cohort:"
   ]
  },
  {
   "cell_type": "code",
   "execution_count": 114,
   "metadata": {},
   "outputs": [
    {
     "data": {
      "text/plain": [
       "13"
      ]
     },
     "execution_count": 114,
     "metadata": {},
     "output_type": "execute_result"
    }
   ],
   "source": [
    "# Convert to InvoiceDate to Year-Month format\n",
    "df['month_year'] = df['InvoiceDate'].dt.to_period('M')\n",
    "df['month_year'].nunique()"
   ]
  },
  {
   "cell_type": "code",
   "execution_count": 115,
   "metadata": {},
   "outputs": [
    {
     "data": {
      "text/plain": [
       "month_year\n",
       "2010-12     929\n",
       "2011-01     772\n",
       "2011-02     776\n",
       "2011-03    1005\n",
       "2011-04     887\n",
       "2011-05    1064\n",
       "2011-06    1031\n",
       "2011-07     973\n",
       "2011-08     962\n",
       "2011-09    1273\n",
       "2011-10    1411\n",
       "2011-11    1698\n",
       "2011-12     663\n",
       "Freq: M, Name: CustomerID, dtype: int64"
      ]
     },
     "execution_count": 115,
     "metadata": {},
     "output_type": "execute_result"
    }
   ],
   "source": [
    "month_cohort = df.groupby('month_year')['CustomerID'].nunique()\n",
    "month_cohort"
   ]
  },
  {
   "cell_type": "code",
   "execution_count": 116,
   "metadata": {},
   "outputs": [
    {
     "data": {
      "text/plain": [
       "Text(0.5, 1.0, 'No. of active customers in each month')"
      ]
     },
     "execution_count": 116,
     "metadata": {},
     "output_type": "execute_result"
    },
    {
     "data": {
      "image/png": "[encoded data removed]",
      "text/plain": [
       "<Figure size 720x360 with 1 Axes>"
      ]
     },
     "metadata": {
      "needs_background": "light"
     },
     "output_type": "display_data"
    }
   ],
   "source": [
    "plt.figure(figsize=(10,5))\n",
    "sns.barplot(y = month_cohort.index, x = month_cohort.values);\n",
    "plt.xlabel(\"Count of customers\")\n",
    "plt.title(\"No. of active customers in each month\")"
   ]
  },
  {
   "cell_type": "code",
   "execution_count": 117,
   "metadata": {},
   "outputs": [
    {
     "data": {
      "text/plain": [
       "13"
      ]
     },
     "execution_count": 117,
     "metadata": {},
     "output_type": "execute_result"
    }
   ],
   "source": [
    "df2['month_year'] = df2['InvoiceDate'].dt.to_period('M')\n",
    "df2['month_year'].nunique()"
   ]
  },
  {
   "cell_type": "code",
   "execution_count": 118,
   "metadata": {},
   "outputs": [
    {
     "data": {
      "text/plain": [
       "month_year\n",
       "2010-12     860\n",
       "2011-01     713\n",
       "2011-02     730\n",
       "2011-03     940\n",
       "2011-04     828\n",
       "2011-05    1004\n",
       "2011-06     959\n",
       "2011-07     912\n",
       "2011-08     899\n",
       "2011-09    1224\n",
       "2011-10    1331\n",
       "2011-11    1612\n",
       "2011-12     617\n",
       "Freq: M, Name: CustomerID, dtype: int64"
      ]
     },
     "execution_count": 118,
     "metadata": {},
     "output_type": "execute_result"
    }
   ],
   "source": [
    "month_cohort2 = df2.groupby('month_year')['CustomerID'].nunique()\n",
    "month_cohort2"
   ]
  },
  {
   "cell_type": "code",
   "execution_count": 119,
   "metadata": {},
   "outputs": [
    {
     "data": {
      "text/plain": [
       "Text(0.5, 1.0, 'No. of active customers in each month')"
      ]
     },
     "execution_count": 119,
     "metadata": {},
     "output_type": "execute_result"
    },
    {
     "data": {
      "image/png": "[encoded data removed]",
      "text/plain": [
       "<Figure size 720x360 with 1 Axes>"
      ]
     },
     "metadata": {
      "needs_background": "light"
     },
     "output_type": "display_data"
    }
   ],
   "source": [
    "plt.figure(figsize=(10,5))\n",
    "sns.barplot(y = month_cohort2.index, x = month_cohort2.values);\n",
    "plt.xlabel(\"Count of customers\")\n",
    "plt.title(\"No. of active customers in each month\")"
   ]
  },
  {
   "cell_type": "markdown",
   "metadata": {},
   "source": [
    "(b) Analyze the retention rate of customers:"
   ]
  },
  {
   "cell_type": "code",
   "execution_count": 120,
   "metadata": {},
   "outputs": [
    {
     "data": {
      "text/plain": [
       "month_year\n",
       "2010-12       NaN\n",
       "2011-01    -157.0\n",
       "2011-02       4.0\n",
       "2011-03     229.0\n",
       "2011-04    -118.0\n",
       "2011-05     177.0\n",
       "2011-06     -33.0\n",
       "2011-07     -58.0\n",
       "2011-08     -11.0\n",
       "2011-09     311.0\n",
       "2011-10     138.0\n",
       "2011-11     287.0\n",
       "2011-12   -1035.0\n",
       "Freq: M, Name: CustomerID, dtype: float64"
      ]
     },
     "execution_count": 120,
     "metadata": {},
     "output_type": "execute_result"
    }
   ],
   "source": [
    "month_cohort - month_cohort.shift(1)"
   ]
  },
  {
   "cell_type": "code",
   "execution_count": 121,
   "metadata": {},
   "outputs": [
    {
     "data": {
      "text/plain": [
       "month_year\n",
       "2010-12      NaN\n",
       "2011-01   -16.90\n",
       "2011-02     0.52\n",
       "2011-03    29.51\n",
       "2011-04   -11.74\n",
       "2011-05    19.95\n",
       "2011-06    -3.10\n",
       "2011-07    -5.63\n",
       "2011-08    -1.13\n",
       "2011-09    32.33\n",
       "2011-10    10.84\n",
       "2011-11    20.34\n",
       "2011-12   -60.95\n",
       "Freq: M, Name: CustomerID, dtype: float64"
      ]
     },
     "execution_count": 121,
     "metadata": {},
     "output_type": "execute_result"
    }
   ],
   "source": [
    "retention_rate = round(month_cohort.pct_change(periods=1)*100,2)\n",
    "retention_rate"
   ]
  },
  {
   "cell_type": "code",
   "execution_count": 122,
   "metadata": {},
   "outputs": [
    {
     "data": {
      "image/png": "[encoded data removed]",
      "text/plain": [
       "<Figure size 720x360 with 1 Axes>"
      ]
     },
     "metadata": {
      "needs_background": "light"
     },
     "output_type": "display_data"
    }
   ],
   "source": [
    "plt.figure(figsize=(10,5))\n",
    "sns.barplot(y = retention_rate.index, x = retention_rate.values);\n",
    "plt.xlabel(\"Retention (in %)\")\n",
    "plt.title(\"Month-wise customer retention rate\");"
   ]
  },
  {
   "cell_type": "markdown",
   "metadata": {},
   "source": [
    "Week 2:\n",
    "Monetary analysis:"
   ]
  },
  {
   "cell_type": "code",
   "execution_count": 123,
   "metadata": {},
   "outputs": [
    {
     "data": {
      "text/html": [
       "<div>\n",
       "<style scoped>\n",
       "    .dataframe tbody tr th:only-of-type {\n",
       "        vertical-align: middle;\n",
       "    }\n",
       "\n",
       "    .dataframe tbody tr th {\n",
       "        vertical-align: top;\n",
       "    }\n",
       "\n",
       "    .dataframe thead th {\n",
       "        text-align: right;\n",
       "    }\n",
       "</style>\n",
       "<table border=\"1\" class=\"dataframe\">\n",
       "  <thead>\n",
       "    <tr style=\"text-align: right;\">\n",
       "      <th></th>\n",
       "      <th>InvoiceNo</th>\n",
       "      <th>StockCode</th>\n",
       "      <th>Quantity</th>\n",
       "      <th>InvoiceDate</th>\n",
       "      <th>UnitPrice</th>\n",
       "      <th>CustomerID</th>\n",
       "      <th>Country</th>\n",
       "      <th>month_year</th>\n",
       "      <th>amount</th>\n",
       "    </tr>\n",
       "  </thead>\n",
       "  <tbody>\n",
       "    <tr>\n",
       "      <th>1</th>\n",
       "      <td>556072</td>\n",
       "      <td>20970</td>\n",
       "      <td>8</td>\n",
       "      <td>2011-06-08 14:57:00</td>\n",
       "      <td>3.75</td>\n",
       "      <td>16126.0</td>\n",
       "      <td>United Kingdom</td>\n",
       "      <td>2011-06</td>\n",
       "      <td>30.00</td>\n",
       "    </tr>\n",
       "    <tr>\n",
       "      <th>2</th>\n",
       "      <td>551739</td>\n",
       "      <td>21559</td>\n",
       "      <td>2</td>\n",
       "      <td>2011-05-04 10:58:00</td>\n",
       "      <td>2.55</td>\n",
       "      <td>18118.0</td>\n",
       "      <td>United Kingdom</td>\n",
       "      <td>2011-05</td>\n",
       "      <td>5.10</td>\n",
       "    </tr>\n",
       "    <tr>\n",
       "      <th>3</th>\n",
       "      <td>541658</td>\n",
       "      <td>21988</td>\n",
       "      <td>1</td>\n",
       "      <td>2011-01-20 12:16:00</td>\n",
       "      <td>0.85</td>\n",
       "      <td>15529.0</td>\n",
       "      <td>United Kingdom</td>\n",
       "      <td>2011-01</td>\n",
       "      <td>0.85</td>\n",
       "    </tr>\n",
       "    <tr>\n",
       "      <th>4</th>\n",
       "      <td>538364</td>\n",
       "      <td>85099C</td>\n",
       "      <td>10</td>\n",
       "      <td>2010-12-10 17:26:00</td>\n",
       "      <td>1.95</td>\n",
       "      <td>14448.0</td>\n",
       "      <td>United Kingdom</td>\n",
       "      <td>2010-12</td>\n",
       "      <td>19.50</td>\n",
       "    </tr>\n",
       "    <tr>\n",
       "      <th>5</th>\n",
       "      <td>552306</td>\n",
       "      <td>84789</td>\n",
       "      <td>4</td>\n",
       "      <td>2011-05-08 15:20:00</td>\n",
       "      <td>3.75</td>\n",
       "      <td>13911.0</td>\n",
       "      <td>United Kingdom</td>\n",
       "      <td>2011-05</td>\n",
       "      <td>15.00</td>\n",
       "    </tr>\n",
       "  </tbody>\n",
       "</table>\n",
       "</div>"
      ],
      "text/plain": [
       "  InvoiceNo StockCode  Quantity         InvoiceDate  UnitPrice CustomerID  \\\n",
       "1    556072     20970         8 2011-06-08 14:57:00       3.75    16126.0   \n",
       "2    551739     21559         2 2011-05-04 10:58:00       2.55    18118.0   \n",
       "3    541658     21988         1 2011-01-20 12:16:00       0.85    15529.0   \n",
       "4    538364    85099C        10 2010-12-10 17:26:00       1.95    14448.0   \n",
       "5    552306     84789         4 2011-05-08 15:20:00       3.75    13911.0   \n",
       "\n",
       "          Country month_year  amount  \n",
       "1  United Kingdom    2011-06   30.00  \n",
       "2  United Kingdom    2011-05    5.10  \n",
       "3  United Kingdom    2011-01    0.85  \n",
       "4  United Kingdom    2010-12   19.50  \n",
       "5  United Kingdom    2011-05   15.00  "
      ]
     },
     "execution_count": 123,
     "metadata": {},
     "output_type": "execute_result"
    }
   ],
   "source": [
    "df['amount'] = df['Quantity']*df['UnitPrice']\n",
    "df.head()"
   ]
  },
  {
   "cell_type": "code",
   "execution_count": 124,
   "metadata": {},
   "outputs": [
    {
     "data": {
      "text/html": [
       "<div>\n",
       "<style scoped>\n",
       "    .dataframe tbody tr th:only-of-type {\n",
       "        vertical-align: middle;\n",
       "    }\n",
       "\n",
       "    .dataframe tbody tr th {\n",
       "        vertical-align: top;\n",
       "    }\n",
       "\n",
       "    .dataframe thead th {\n",
       "        text-align: right;\n",
       "    }\n",
       "</style>\n",
       "<table border=\"1\" class=\"dataframe\">\n",
       "  <thead>\n",
       "    <tr style=\"text-align: right;\">\n",
       "      <th></th>\n",
       "      <th>CustomerID</th>\n",
       "      <th>amount</th>\n",
       "    </tr>\n",
       "  </thead>\n",
       "  <tbody>\n",
       "    <tr>\n",
       "      <th>0</th>\n",
       "      <td>12346.0</td>\n",
       "      <td>0.00</td>\n",
       "    </tr>\n",
       "    <tr>\n",
       "      <th>1</th>\n",
       "      <td>12347.0</td>\n",
       "      <td>3124.96</td>\n",
       "    </tr>\n",
       "    <tr>\n",
       "      <th>2</th>\n",
       "      <td>12348.0</td>\n",
       "      <td>1009.88</td>\n",
       "    </tr>\n",
       "    <tr>\n",
       "      <th>3</th>\n",
       "      <td>12349.0</td>\n",
       "      <td>1344.17</td>\n",
       "    </tr>\n",
       "    <tr>\n",
       "      <th>4</th>\n",
       "      <td>12350.0</td>\n",
       "      <td>213.30</td>\n",
       "    </tr>\n",
       "    <tr>\n",
       "      <th>...</th>\n",
       "      <td>...</td>\n",
       "      <td>...</td>\n",
       "    </tr>\n",
       "    <tr>\n",
       "      <th>4348</th>\n",
       "      <td>18280.0</td>\n",
       "      <td>91.70</td>\n",
       "    </tr>\n",
       "    <tr>\n",
       "      <th>4349</th>\n",
       "      <td>18281.0</td>\n",
       "      <td>59.28</td>\n",
       "    </tr>\n",
       "    <tr>\n",
       "      <th>4350</th>\n",
       "      <td>18282.0</td>\n",
       "      <td>118.16</td>\n",
       "    </tr>\n",
       "    <tr>\n",
       "      <th>4351</th>\n",
       "      <td>18283.0</td>\n",
       "      <td>1450.29</td>\n",
       "    </tr>\n",
       "    <tr>\n",
       "      <th>4352</th>\n",
       "      <td>18287.0</td>\n",
       "      <td>1430.78</td>\n",
       "    </tr>\n",
       "  </tbody>\n",
       "</table>\n",
       "<p>4353 rows × 2 columns</p>\n",
       "</div>"
      ],
      "text/plain": [
       "     CustomerID   amount\n",
       "0       12346.0     0.00\n",
       "1       12347.0  3124.96\n",
       "2       12348.0  1009.88\n",
       "3       12349.0  1344.17\n",
       "4       12350.0   213.30\n",
       "...         ...      ...\n",
       "4348    18280.0    91.70\n",
       "4349    18281.0    59.28\n",
       "4350    18282.0   118.16\n",
       "4351    18283.0  1450.29\n",
       "4352    18287.0  1430.78\n",
       "\n",
       "[4353 rows x 2 columns]"
      ]
     },
     "execution_count": 124,
     "metadata": {},
     "output_type": "execute_result"
    }
   ],
   "source": [
    "df_monetary = df.groupby('CustomerID').sum()['amount'].reset_index()\n",
    "df_monetary"
   ]
  },
  {
   "cell_type": "markdown",
   "metadata": {},
   "source": [
    "Frequency Analysis:"
   ]
  },
  {
   "cell_type": "code",
   "execution_count": 125,
   "metadata": {},
   "outputs": [
    {
     "data": {
      "text/html": [
       "<div>\n",
       "<style scoped>\n",
       "    .dataframe tbody tr th:only-of-type {\n",
       "        vertical-align: middle;\n",
       "    }\n",
       "\n",
       "    .dataframe tbody tr th {\n",
       "        vertical-align: top;\n",
       "    }\n",
       "\n",
       "    .dataframe thead th {\n",
       "        text-align: right;\n",
       "    }\n",
       "</style>\n",
       "<table border=\"1\" class=\"dataframe\">\n",
       "  <thead>\n",
       "    <tr style=\"text-align: right;\">\n",
       "      <th></th>\n",
       "      <th>CustomerID</th>\n",
       "      <th>InvoiceNo</th>\n",
       "    </tr>\n",
       "  </thead>\n",
       "  <tbody>\n",
       "    <tr>\n",
       "      <th>0</th>\n",
       "      <td>12346.0</td>\n",
       "      <td>2</td>\n",
       "    </tr>\n",
       "    <tr>\n",
       "      <th>1</th>\n",
       "      <td>12347.0</td>\n",
       "      <td>7</td>\n",
       "    </tr>\n",
       "    <tr>\n",
       "      <th>2</th>\n",
       "      <td>12348.0</td>\n",
       "      <td>4</td>\n",
       "    </tr>\n",
       "    <tr>\n",
       "      <th>3</th>\n",
       "      <td>12349.0</td>\n",
       "      <td>1</td>\n",
       "    </tr>\n",
       "    <tr>\n",
       "      <th>4</th>\n",
       "      <td>12350.0</td>\n",
       "      <td>1</td>\n",
       "    </tr>\n",
       "    <tr>\n",
       "      <th>...</th>\n",
       "      <td>...</td>\n",
       "      <td>...</td>\n",
       "    </tr>\n",
       "    <tr>\n",
       "      <th>4348</th>\n",
       "      <td>18280.0</td>\n",
       "      <td>1</td>\n",
       "    </tr>\n",
       "    <tr>\n",
       "      <th>4349</th>\n",
       "      <td>18281.0</td>\n",
       "      <td>1</td>\n",
       "    </tr>\n",
       "    <tr>\n",
       "      <th>4350</th>\n",
       "      <td>18282.0</td>\n",
       "      <td>3</td>\n",
       "    </tr>\n",
       "    <tr>\n",
       "      <th>4351</th>\n",
       "      <td>18283.0</td>\n",
       "      <td>16</td>\n",
       "    </tr>\n",
       "    <tr>\n",
       "      <th>4352</th>\n",
       "      <td>18287.0</td>\n",
       "      <td>3</td>\n",
       "    </tr>\n",
       "  </tbody>\n",
       "</table>\n",
       "<p>4353 rows × 2 columns</p>\n",
       "</div>"
      ],
      "text/plain": [
       "     CustomerID  InvoiceNo\n",
       "0       12346.0          2\n",
       "1       12347.0          7\n",
       "2       12348.0          4\n",
       "3       12349.0          1\n",
       "4       12350.0          1\n",
       "...         ...        ...\n",
       "4348    18280.0          1\n",
       "4349    18281.0          1\n",
       "4350    18282.0          3\n",
       "4351    18283.0         16\n",
       "4352    18287.0          3\n",
       "\n",
       "[4353 rows x 2 columns]"
      ]
     },
     "execution_count": 125,
     "metadata": {},
     "output_type": "execute_result"
    }
   ],
   "source": [
    "df_frequency = df.groupby('CustomerID').nunique()['InvoiceNo'].reset_index()\n",
    "# df_freqency = df.drop_duplicates('InvoiceNo').groupby('CustomerID').count()['InvoiceNo'].reset_index()\n",
    "df_frequency"
   ]
  },
  {
   "cell_type": "markdown",
   "metadata": {},
   "source": [
    "Recency Analysis:"
   ]
  },
  {
   "cell_type": "code",
   "execution_count": 126,
   "metadata": {},
   "outputs": [
    {
     "data": {
      "text/html": [
       "<div>\n",
       "<style scoped>\n",
       "    .dataframe tbody tr th:only-of-type {\n",
       "        vertical-align: middle;\n",
       "    }\n",
       "\n",
       "    .dataframe tbody tr th {\n",
       "        vertical-align: top;\n",
       "    }\n",
       "\n",
       "    .dataframe thead th {\n",
       "        text-align: right;\n",
       "    }\n",
       "</style>\n",
       "<table border=\"1\" class=\"dataframe\">\n",
       "  <thead>\n",
       "    <tr style=\"text-align: right;\">\n",
       "      <th></th>\n",
       "      <th>InvoiceNo</th>\n",
       "      <th>StockCode</th>\n",
       "      <th>Quantity</th>\n",
       "      <th>InvoiceDate</th>\n",
       "      <th>UnitPrice</th>\n",
       "      <th>CustomerID</th>\n",
       "      <th>Country</th>\n",
       "      <th>month_year</th>\n",
       "      <th>amount</th>\n",
       "      <th>days_to_last_order</th>\n",
       "    </tr>\n",
       "  </thead>\n",
       "  <tbody>\n",
       "    <tr>\n",
       "      <th>1</th>\n",
       "      <td>556072</td>\n",
       "      <td>20970</td>\n",
       "      <td>8</td>\n",
       "      <td>2011-06-08 14:57:00</td>\n",
       "      <td>3.75</td>\n",
       "      <td>16126.0</td>\n",
       "      <td>United Kingdom</td>\n",
       "      <td>2011-06</td>\n",
       "      <td>30.00</td>\n",
       "      <td>184</td>\n",
       "    </tr>\n",
       "    <tr>\n",
       "      <th>2</th>\n",
       "      <td>551739</td>\n",
       "      <td>21559</td>\n",
       "      <td>2</td>\n",
       "      <td>2011-05-04 10:58:00</td>\n",
       "      <td>2.55</td>\n",
       "      <td>18118.0</td>\n",
       "      <td>United Kingdom</td>\n",
       "      <td>2011-05</td>\n",
       "      <td>5.10</td>\n",
       "      <td>220</td>\n",
       "    </tr>\n",
       "    <tr>\n",
       "      <th>3</th>\n",
       "      <td>541658</td>\n",
       "      <td>21988</td>\n",
       "      <td>1</td>\n",
       "      <td>2011-01-20 12:16:00</td>\n",
       "      <td>0.85</td>\n",
       "      <td>15529.0</td>\n",
       "      <td>United Kingdom</td>\n",
       "      <td>2011-01</td>\n",
       "      <td>0.85</td>\n",
       "      <td>324</td>\n",
       "    </tr>\n",
       "    <tr>\n",
       "      <th>4</th>\n",
       "      <td>538364</td>\n",
       "      <td>85099C</td>\n",
       "      <td>10</td>\n",
       "      <td>2010-12-10 17:26:00</td>\n",
       "      <td>1.95</td>\n",
       "      <td>14448.0</td>\n",
       "      <td>United Kingdom</td>\n",
       "      <td>2010-12</td>\n",
       "      <td>19.50</td>\n",
       "      <td>364</td>\n",
       "    </tr>\n",
       "    <tr>\n",
       "      <th>5</th>\n",
       "      <td>552306</td>\n",
       "      <td>84789</td>\n",
       "      <td>4</td>\n",
       "      <td>2011-05-08 15:20:00</td>\n",
       "      <td>3.75</td>\n",
       "      <td>13911.0</td>\n",
       "      <td>United Kingdom</td>\n",
       "      <td>2011-05</td>\n",
       "      <td>15.00</td>\n",
       "      <td>215</td>\n",
       "    </tr>\n",
       "  </tbody>\n",
       "</table>\n",
       "</div>"
      ],
      "text/plain": [
       "  InvoiceNo StockCode  Quantity         InvoiceDate  UnitPrice CustomerID  \\\n",
       "1    556072     20970         8 2011-06-08 14:57:00       3.75    16126.0   \n",
       "2    551739     21559         2 2011-05-04 10:58:00       2.55    18118.0   \n",
       "3    541658     21988         1 2011-01-20 12:16:00       0.85    15529.0   \n",
       "4    538364    85099C        10 2010-12-10 17:26:00       1.95    14448.0   \n",
       "5    552306     84789         4 2011-05-08 15:20:00       3.75    13911.0   \n",
       "\n",
       "          Country month_year  amount  days_to_last_order  \n",
       "1  United Kingdom    2011-06   30.00                 184  \n",
       "2  United Kingdom    2011-05    5.10                 220  \n",
       "3  United Kingdom    2011-01    0.85                 324  \n",
       "4  United Kingdom    2010-12   19.50                 364  \n",
       "5  United Kingdom    2011-05   15.00                 215  "
      ]
     },
     "execution_count": 126,
     "metadata": {},
     "output_type": "execute_result"
    }
   ],
   "source": [
    "#We will fix reference date for calculating recency as last transaction day in data + 1 day\n",
    "ref_day = max(df['InvoiceDate']) + timedelta(days=1)\n",
    "df['days_to_last_order'] = (ref_day - df['InvoiceDate']).dt.days\n",
    "df.head()"
   ]
  },
  {
   "cell_type": "code",
   "execution_count": 127,
   "metadata": {},
   "outputs": [
    {
     "data": {
      "text/html": [
       "<div>\n",
       "<style scoped>\n",
       "    .dataframe tbody tr th:only-of-type {\n",
       "        vertical-align: middle;\n",
       "    }\n",
       "\n",
       "    .dataframe tbody tr th {\n",
       "        vertical-align: top;\n",
       "    }\n",
       "\n",
       "    .dataframe thead th {\n",
       "        text-align: right;\n",
       "    }\n",
       "</style>\n",
       "<table border=\"1\" class=\"dataframe\">\n",
       "  <thead>\n",
       "    <tr style=\"text-align: right;\">\n",
       "      <th></th>\n",
       "      <th>CustomerID</th>\n",
       "      <th>days_to_last_order</th>\n",
       "    </tr>\n",
       "  </thead>\n",
       "  <tbody>\n",
       "    <tr>\n",
       "      <th>0</th>\n",
       "      <td>12346.0</td>\n",
       "      <td>326</td>\n",
       "    </tr>\n",
       "    <tr>\n",
       "      <th>1</th>\n",
       "      <td>12347.0</td>\n",
       "      <td>2</td>\n",
       "    </tr>\n",
       "    <tr>\n",
       "      <th>2</th>\n",
       "      <td>12348.0</td>\n",
       "      <td>75</td>\n",
       "    </tr>\n",
       "    <tr>\n",
       "      <th>3</th>\n",
       "      <td>12349.0</td>\n",
       "      <td>19</td>\n",
       "    </tr>\n",
       "    <tr>\n",
       "      <th>4</th>\n",
       "      <td>12350.0</td>\n",
       "      <td>310</td>\n",
       "    </tr>\n",
       "    <tr>\n",
       "      <th>...</th>\n",
       "      <td>...</td>\n",
       "      <td>...</td>\n",
       "    </tr>\n",
       "    <tr>\n",
       "      <th>4348</th>\n",
       "      <td>18280.0</td>\n",
       "      <td>278</td>\n",
       "    </tr>\n",
       "    <tr>\n",
       "      <th>4349</th>\n",
       "      <td>18281.0</td>\n",
       "      <td>181</td>\n",
       "    </tr>\n",
       "    <tr>\n",
       "      <th>4350</th>\n",
       "      <td>18282.0</td>\n",
       "      <td>8</td>\n",
       "    </tr>\n",
       "    <tr>\n",
       "      <th>4351</th>\n",
       "      <td>18283.0</td>\n",
       "      <td>4</td>\n",
       "    </tr>\n",
       "    <tr>\n",
       "      <th>4352</th>\n",
       "      <td>18287.0</td>\n",
       "      <td>43</td>\n",
       "    </tr>\n",
       "  </tbody>\n",
       "</table>\n",
       "<p>4353 rows × 2 columns</p>\n",
       "</div>"
      ],
      "text/plain": [
       "     CustomerID  days_to_last_order\n",
       "0       12346.0                 326\n",
       "1       12347.0                   2\n",
       "2       12348.0                  75\n",
       "3       12349.0                  19\n",
       "4       12350.0                 310\n",
       "...         ...                 ...\n",
       "4348    18280.0                 278\n",
       "4349    18281.0                 181\n",
       "4350    18282.0                   8\n",
       "4351    18283.0                   4\n",
       "4352    18287.0                  43\n",
       "\n",
       "[4353 rows x 2 columns]"
      ]
     },
     "execution_count": 127,
     "metadata": {},
     "output_type": "execute_result"
    }
   ],
   "source": [
    "df_recency = df.groupby('CustomerID')['days_to_last_order'].min().reset_index()\n",
    "df_recency"
   ]
  },
  {
   "cell_type": "markdown",
   "metadata": {},
   "source": [
    "Calculate RFM metrics:"
   ]
  },
  {
   "cell_type": "code",
   "execution_count": 128,
   "metadata": {},
   "outputs": [
    {
     "data": {
      "text/html": [
       "<div>\n",
       "<style scoped>\n",
       "    .dataframe tbody tr th:only-of-type {\n",
       "        vertical-align: middle;\n",
       "    }\n",
       "\n",
       "    .dataframe tbody tr th {\n",
       "        vertical-align: top;\n",
       "    }\n",
       "\n",
       "    .dataframe thead th {\n",
       "        text-align: right;\n",
       "    }\n",
       "</style>\n",
       "<table border=\"1\" class=\"dataframe\">\n",
       "  <thead>\n",
       "    <tr style=\"text-align: right;\">\n",
       "      <th></th>\n",
       "      <th>CustomerID</th>\n",
       "      <th>Recency</th>\n",
       "      <th>Frequency</th>\n",
       "      <th>Monetary</th>\n",
       "    </tr>\n",
       "  </thead>\n",
       "  <tbody>\n",
       "    <tr>\n",
       "      <th>0</th>\n",
       "      <td>12346.0</td>\n",
       "      <td>326</td>\n",
       "      <td>2</td>\n",
       "      <td>0.00</td>\n",
       "    </tr>\n",
       "    <tr>\n",
       "      <th>1</th>\n",
       "      <td>12347.0</td>\n",
       "      <td>2</td>\n",
       "      <td>7</td>\n",
       "      <td>3124.96</td>\n",
       "    </tr>\n",
       "    <tr>\n",
       "      <th>2</th>\n",
       "      <td>12348.0</td>\n",
       "      <td>75</td>\n",
       "      <td>4</td>\n",
       "      <td>1009.88</td>\n",
       "    </tr>\n",
       "    <tr>\n",
       "      <th>3</th>\n",
       "      <td>12349.0</td>\n",
       "      <td>19</td>\n",
       "      <td>1</td>\n",
       "      <td>1344.17</td>\n",
       "    </tr>\n",
       "    <tr>\n",
       "      <th>4</th>\n",
       "      <td>12350.0</td>\n",
       "      <td>310</td>\n",
       "      <td>1</td>\n",
       "      <td>213.30</td>\n",
       "    </tr>\n",
       "  </tbody>\n",
       "</table>\n",
       "</div>"
      ],
      "text/plain": [
       "  CustomerID  Recency  Frequency  Monetary\n",
       "0    12346.0      326          2      0.00\n",
       "1    12347.0        2          7   3124.96\n",
       "2    12348.0       75          4   1009.88\n",
       "3    12349.0       19          1   1344.17\n",
       "4    12350.0      310          1    213.30"
      ]
     },
     "execution_count": 128,
     "metadata": {},
     "output_type": "execute_result"
    }
   ],
   "source": [
    "df_rf = pd.merge(df_recency, df_frequency,  on='CustomerID', how='inner')\n",
    "df_rfm = pd.merge(df_rf, df_monetary, on='CustomerID', how='inner')\n",
    "df_rfm.columns = ['CustomerID', 'Recency', 'Frequency', 'Monetary']\n",
    "df_rfm.head()"
   ]
  },
  {
   "cell_type": "markdown",
   "metadata": {},
   "source": [
    "Build RFM Segments:"
   ]
  },
  {
   "cell_type": "code",
   "execution_count": 129,
   "metadata": {},
   "outputs": [
    {
     "data": {
      "text/plain": [
       "newest    2715\n",
       "newer      584\n",
       "medium     417\n",
       "older      355\n",
       "oldest     282\n",
       "Name: recency_labels, dtype: int64"
      ]
     },
     "execution_count": 129,
     "metadata": {},
     "output_type": "execute_result"
    },
    {
     "data": {
      "image/png": "[encoded data removed]",
      "text/plain": [
       "<Figure size 432x288 with 1 Axes>"
      ]
     },
     "metadata": {
      "needs_background": "light"
     },
     "output_type": "display_data"
    }
   ],
   "source": [
    "df_rfm['recency_labels'] = pd.cut(df_rfm['Recency'], bins=5,\n",
    "                                     labels=['newest', 'newer', 'medium', 'older', 'oldest'])\n",
    "df_rfm['recency_labels'].value_counts().plot(kind='barh');\n",
    "df_rfm['recency_labels'].value_counts()"
   ]
  },
  {
   "cell_type": "code",
   "execution_count": 130,
   "metadata": {},
   "outputs": [
    {
     "data": {
      "text/plain": [
       "lowest     4332\n",
       "lower        15\n",
       "medium        3\n",
       "highest       2\n",
       "higher        1\n",
       "Name: frequency_labels, dtype: int64"
      ]
     },
     "execution_count": 130,
     "metadata": {},
     "output_type": "execute_result"
    },
    {
     "data": {
      "image/png": "[encoded data removed]",
      "text/plain": [
       "<Figure size 432x288 with 1 Axes>"
      ]
     },
     "metadata": {
      "needs_background": "light"
     },
     "output_type": "display_data"
    }
   ],
   "source": [
    "df_rfm['frequency_labels'] = pd.cut(df_rfm['Frequency'], bins=5, labels=['lowest', 'lower', 'medium', 'higher', 'highest'])\n",
    "df_rfm['frequency_labels'].value_counts().plot(kind='barh');\n",
    "df_rfm['frequency_labels'].value_counts()"
   ]
  },
  {
   "cell_type": "code",
   "execution_count": 131,
   "metadata": {},
   "outputs": [
    {
     "data": {
      "text/plain": [
       "smallest    4338\n",
       "smaller        9\n",
       "medium         3\n",
       "largest        2\n",
       "larger         1\n",
       "Name: monetary_labels, dtype: int64"
      ]
     },
     "execution_count": 131,
     "metadata": {},
     "output_type": "execute_result"
    },
    {
     "data": {
      "image/png": "[encoded data removed]",
      "text/plain": [
       "<Figure size 432x288 with 1 Axes>"
      ]
     },
     "metadata": {
      "needs_background": "light"
     },
     "output_type": "display_data"
    }
   ],
   "source": [
    "df_rfm['monetary_labels'] = pd.cut(df_rfm['Monetary'], bins=5, labels=['smallest', 'smaller', 'medium', 'larger', 'largest'])\n",
    "df_rfm['monetary_labels'].value_counts().plot(kind='barh');\n",
    "df_rfm['monetary_labels'].value_counts()"
   ]
  },
  {
   "cell_type": "code",
   "execution_count": 132,
   "metadata": {},
   "outputs": [
    {
     "data": {
      "text/html": [
       "<div>\n",
       "<style scoped>\n",
       "    .dataframe tbody tr th:only-of-type {\n",
       "        vertical-align: middle;\n",
       "    }\n",
       "\n",
       "    .dataframe tbody tr th {\n",
       "        vertical-align: top;\n",
       "    }\n",
       "\n",
       "    .dataframe thead th {\n",
       "        text-align: right;\n",
       "    }\n",
       "</style>\n",
       "<table border=\"1\" class=\"dataframe\">\n",
       "  <thead>\n",
       "    <tr style=\"text-align: right;\">\n",
       "      <th></th>\n",
       "      <th>CustomerID</th>\n",
       "      <th>Recency</th>\n",
       "      <th>Frequency</th>\n",
       "      <th>Monetary</th>\n",
       "      <th>recency_labels</th>\n",
       "      <th>frequency_labels</th>\n",
       "      <th>monetary_labels</th>\n",
       "      <th>rfm_segment</th>\n",
       "    </tr>\n",
       "  </thead>\n",
       "  <tbody>\n",
       "    <tr>\n",
       "      <th>0</th>\n",
       "      <td>12346.0</td>\n",
       "      <td>326</td>\n",
       "      <td>2</td>\n",
       "      <td>0.00</td>\n",
       "      <td>oldest</td>\n",
       "      <td>lowest</td>\n",
       "      <td>smallest</td>\n",
       "      <td>oldest-lowest-smallest</td>\n",
       "    </tr>\n",
       "    <tr>\n",
       "      <th>1</th>\n",
       "      <td>12347.0</td>\n",
       "      <td>2</td>\n",
       "      <td>7</td>\n",
       "      <td>3124.96</td>\n",
       "      <td>newest</td>\n",
       "      <td>lowest</td>\n",
       "      <td>smallest</td>\n",
       "      <td>newest-lowest-smallest</td>\n",
       "    </tr>\n",
       "    <tr>\n",
       "      <th>2</th>\n",
       "      <td>12348.0</td>\n",
       "      <td>75</td>\n",
       "      <td>4</td>\n",
       "      <td>1009.88</td>\n",
       "      <td>newest</td>\n",
       "      <td>lowest</td>\n",
       "      <td>smallest</td>\n",
       "      <td>newest-lowest-smallest</td>\n",
       "    </tr>\n",
       "    <tr>\n",
       "      <th>3</th>\n",
       "      <td>12349.0</td>\n",
       "      <td>19</td>\n",
       "      <td>1</td>\n",
       "      <td>1344.17</td>\n",
       "      <td>newest</td>\n",
       "      <td>lowest</td>\n",
       "      <td>smallest</td>\n",
       "      <td>newest-lowest-smallest</td>\n",
       "    </tr>\n",
       "    <tr>\n",
       "      <th>4</th>\n",
       "      <td>12350.0</td>\n",
       "      <td>310</td>\n",
       "      <td>1</td>\n",
       "      <td>213.30</td>\n",
       "      <td>oldest</td>\n",
       "      <td>lowest</td>\n",
       "      <td>smallest</td>\n",
       "      <td>oldest-lowest-smallest</td>\n",
       "    </tr>\n",
       "  </tbody>\n",
       "</table>\n",
       "</div>"
      ],
      "text/plain": [
       "  CustomerID  Recency  Frequency  Monetary recency_labels frequency_labels  \\\n",
       "0    12346.0      326          2      0.00         oldest           lowest   \n",
       "1    12347.0        2          7   3124.96         newest           lowest   \n",
       "2    12348.0       75          4   1009.88         newest           lowest   \n",
       "3    12349.0       19          1   1344.17         newest           lowest   \n",
       "4    12350.0      310          1    213.30         oldest           lowest   \n",
       "\n",
       "  monetary_labels             rfm_segment  \n",
       "0        smallest  oldest-lowest-smallest  \n",
       "1        smallest  newest-lowest-smallest  \n",
       "2        smallest  newest-lowest-smallest  \n",
       "3        smallest  newest-lowest-smallest  \n",
       "4        smallest  oldest-lowest-smallest  "
      ]
     },
     "execution_count": 132,
     "metadata": {},
     "output_type": "execute_result"
    }
   ],
   "source": [
    "df_rfm['rfm_segment'] = df_rfm[['recency_labels','frequency_labels','monetary_labels']].agg('-'.join, axis=1)\n",
    "df_rfm.head()"
   ]
  },
  {
   "cell_type": "code",
   "execution_count": 133,
   "metadata": {},
   "outputs": [
    {
     "data": {
      "text/plain": [
       "smallest    4338\n",
       "smaller        9\n",
       "medium         3\n",
       "largest        2\n",
       "larger         1\n",
       "Name: monetary_labels, dtype: int64"
      ]
     },
     "execution_count": 133,
     "metadata": {},
     "output_type": "execute_result"
    },
    {
     "data": {
      "image/png": "[encoded data removed]",
      "text/plain": [
       "<Figure size 432x288 with 1 Axes>"
      ]
     },
     "metadata": {
      "needs_background": "light"
     },
     "output_type": "display_data"
    }
   ],
   "source": [
    "df_rfm['monetary_labels'] = pd.cut(df_rfm['Monetary'], bins=5, labels=['smallest', 'smaller', 'medium', 'larger', 'largest'])\n",
    "df_rfm['monetary_labels'].value_counts().plot(kind='barh');\n",
    "df_rfm['monetary_labels'].value_counts()"
   ]
  },
  {
   "cell_type": "code",
   "execution_count": 134,
   "metadata": {},
   "outputs": [
    {
     "data": {
      "text/html": [
       "<div>\n",
       "<style scoped>\n",
       "    .dataframe tbody tr th:only-of-type {\n",
       "        vertical-align: middle;\n",
       "    }\n",
       "\n",
       "    .dataframe tbody tr th {\n",
       "        vertical-align: top;\n",
       "    }\n",
       "\n",
       "    .dataframe thead th {\n",
       "        text-align: right;\n",
       "    }\n",
       "</style>\n",
       "<table border=\"1\" class=\"dataframe\">\n",
       "  <thead>\n",
       "    <tr style=\"text-align: right;\">\n",
       "      <th></th>\n",
       "      <th>CustomerID</th>\n",
       "      <th>Recency</th>\n",
       "      <th>Frequency</th>\n",
       "      <th>Monetary</th>\n",
       "      <th>recency_labels</th>\n",
       "      <th>frequency_labels</th>\n",
       "      <th>monetary_labels</th>\n",
       "      <th>rfm_segment</th>\n",
       "    </tr>\n",
       "  </thead>\n",
       "  <tbody>\n",
       "    <tr>\n",
       "      <th>0</th>\n",
       "      <td>12346.0</td>\n",
       "      <td>326</td>\n",
       "      <td>2</td>\n",
       "      <td>0.00</td>\n",
       "      <td>oldest</td>\n",
       "      <td>lowest</td>\n",
       "      <td>smallest</td>\n",
       "      <td>oldest-lowest-smallest</td>\n",
       "    </tr>\n",
       "    <tr>\n",
       "      <th>1</th>\n",
       "      <td>12347.0</td>\n",
       "      <td>2</td>\n",
       "      <td>7</td>\n",
       "      <td>3124.96</td>\n",
       "      <td>newest</td>\n",
       "      <td>lowest</td>\n",
       "      <td>smallest</td>\n",
       "      <td>newest-lowest-smallest</td>\n",
       "    </tr>\n",
       "    <tr>\n",
       "      <th>2</th>\n",
       "      <td>12348.0</td>\n",
       "      <td>75</td>\n",
       "      <td>4</td>\n",
       "      <td>1009.88</td>\n",
       "      <td>newest</td>\n",
       "      <td>lowest</td>\n",
       "      <td>smallest</td>\n",
       "      <td>newest-lowest-smallest</td>\n",
       "    </tr>\n",
       "    <tr>\n",
       "      <th>3</th>\n",
       "      <td>12349.0</td>\n",
       "      <td>19</td>\n",
       "      <td>1</td>\n",
       "      <td>1344.17</td>\n",
       "      <td>newest</td>\n",
       "      <td>lowest</td>\n",
       "      <td>smallest</td>\n",
       "      <td>newest-lowest-smallest</td>\n",
       "    </tr>\n",
       "    <tr>\n",
       "      <th>4</th>\n",
       "      <td>12350.0</td>\n",
       "      <td>310</td>\n",
       "      <td>1</td>\n",
       "      <td>213.30</td>\n",
       "      <td>oldest</td>\n",
       "      <td>lowest</td>\n",
       "      <td>smallest</td>\n",
       "      <td>oldest-lowest-smallest</td>\n",
       "    </tr>\n",
       "  </tbody>\n",
       "</table>\n",
       "</div>"
      ],
      "text/plain": [
       "  CustomerID  Recency  Frequency  Monetary recency_labels frequency_labels  \\\n",
       "0    12346.0      326          2      0.00         oldest           lowest   \n",
       "1    12347.0        2          7   3124.96         newest           lowest   \n",
       "2    12348.0       75          4   1009.88         newest           lowest   \n",
       "3    12349.0       19          1   1344.17         newest           lowest   \n",
       "4    12350.0      310          1    213.30         oldest           lowest   \n",
       "\n",
       "  monetary_labels             rfm_segment  \n",
       "0        smallest  oldest-lowest-smallest  \n",
       "1        smallest  newest-lowest-smallest  \n",
       "2        smallest  newest-lowest-smallest  \n",
       "3        smallest  newest-lowest-smallest  \n",
       "4        smallest  oldest-lowest-smallest  "
      ]
     },
     "execution_count": 134,
     "metadata": {},
     "output_type": "execute_result"
    }
   ],
   "source": [
    "df_rfm['rfm_segment'] = df_rfm[['recency_labels','frequency_labels','monetary_labels']].agg('-'.join, axis=1)\n",
    "df_rfm.head()"
   ]
  },
  {
   "cell_type": "markdown",
   "metadata": {},
   "source": [
    "RFM Score:"
   ]
  },
  {
   "cell_type": "code",
   "execution_count": 135,
   "metadata": {},
   "outputs": [
    {
     "data": {
      "text/html": [
       "<div>\n",
       "<style scoped>\n",
       "    .dataframe tbody tr th:only-of-type {\n",
       "        vertical-align: middle;\n",
       "    }\n",
       "\n",
       "    .dataframe tbody tr th {\n",
       "        vertical-align: top;\n",
       "    }\n",
       "\n",
       "    .dataframe thead th {\n",
       "        text-align: right;\n",
       "    }\n",
       "</style>\n",
       "<table border=\"1\" class=\"dataframe\">\n",
       "  <thead>\n",
       "    <tr style=\"text-align: right;\">\n",
       "      <th></th>\n",
       "      <th>CustomerID</th>\n",
       "      <th>Recency</th>\n",
       "      <th>Frequency</th>\n",
       "      <th>Monetary</th>\n",
       "      <th>recency_labels</th>\n",
       "      <th>frequency_labels</th>\n",
       "      <th>monetary_labels</th>\n",
       "      <th>rfm_segment</th>\n",
       "      <th>rfm_score</th>\n",
       "    </tr>\n",
       "  </thead>\n",
       "  <tbody>\n",
       "    <tr>\n",
       "      <th>0</th>\n",
       "      <td>12346.0</td>\n",
       "      <td>326</td>\n",
       "      <td>2</td>\n",
       "      <td>0.00</td>\n",
       "      <td>oldest</td>\n",
       "      <td>lowest</td>\n",
       "      <td>smallest</td>\n",
       "      <td>oldest-lowest-smallest</td>\n",
       "      <td>3</td>\n",
       "    </tr>\n",
       "    <tr>\n",
       "      <th>1</th>\n",
       "      <td>12347.0</td>\n",
       "      <td>2</td>\n",
       "      <td>7</td>\n",
       "      <td>3124.96</td>\n",
       "      <td>newest</td>\n",
       "      <td>lowest</td>\n",
       "      <td>smallest</td>\n",
       "      <td>newest-lowest-smallest</td>\n",
       "      <td>7</td>\n",
       "    </tr>\n",
       "    <tr>\n",
       "      <th>2</th>\n",
       "      <td>12348.0</td>\n",
       "      <td>75</td>\n",
       "      <td>4</td>\n",
       "      <td>1009.88</td>\n",
       "      <td>newest</td>\n",
       "      <td>lowest</td>\n",
       "      <td>smallest</td>\n",
       "      <td>newest-lowest-smallest</td>\n",
       "      <td>7</td>\n",
       "    </tr>\n",
       "    <tr>\n",
       "      <th>3</th>\n",
       "      <td>12349.0</td>\n",
       "      <td>19</td>\n",
       "      <td>1</td>\n",
       "      <td>1344.17</td>\n",
       "      <td>newest</td>\n",
       "      <td>lowest</td>\n",
       "      <td>smallest</td>\n",
       "      <td>newest-lowest-smallest</td>\n",
       "      <td>7</td>\n",
       "    </tr>\n",
       "    <tr>\n",
       "      <th>4</th>\n",
       "      <td>12350.0</td>\n",
       "      <td>310</td>\n",
       "      <td>1</td>\n",
       "      <td>213.30</td>\n",
       "      <td>oldest</td>\n",
       "      <td>lowest</td>\n",
       "      <td>smallest</td>\n",
       "      <td>oldest-lowest-smallest</td>\n",
       "      <td>3</td>\n",
       "    </tr>\n",
       "    <tr>\n",
       "      <th>5</th>\n",
       "      <td>12352.0</td>\n",
       "      <td>36</td>\n",
       "      <td>10</td>\n",
       "      <td>1469.03</td>\n",
       "      <td>newest</td>\n",
       "      <td>lowest</td>\n",
       "      <td>smallest</td>\n",
       "      <td>newest-lowest-smallest</td>\n",
       "      <td>7</td>\n",
       "    </tr>\n",
       "    <tr>\n",
       "      <th>6</th>\n",
       "      <td>12353.0</td>\n",
       "      <td>204</td>\n",
       "      <td>1</td>\n",
       "      <td>71.30</td>\n",
       "      <td>medium</td>\n",
       "      <td>lowest</td>\n",
       "      <td>smallest</td>\n",
       "      <td>medium-lowest-smallest</td>\n",
       "      <td>5</td>\n",
       "    </tr>\n",
       "    <tr>\n",
       "      <th>7</th>\n",
       "      <td>12354.0</td>\n",
       "      <td>232</td>\n",
       "      <td>1</td>\n",
       "      <td>848.02</td>\n",
       "      <td>older</td>\n",
       "      <td>lowest</td>\n",
       "      <td>smallest</td>\n",
       "      <td>older-lowest-smallest</td>\n",
       "      <td>4</td>\n",
       "    </tr>\n",
       "    <tr>\n",
       "      <th>8</th>\n",
       "      <td>12355.0</td>\n",
       "      <td>214</td>\n",
       "      <td>1</td>\n",
       "      <td>370.80</td>\n",
       "      <td>medium</td>\n",
       "      <td>lowest</td>\n",
       "      <td>smallest</td>\n",
       "      <td>medium-lowest-smallest</td>\n",
       "      <td>5</td>\n",
       "    </tr>\n",
       "    <tr>\n",
       "      <th>9</th>\n",
       "      <td>12356.0</td>\n",
       "      <td>23</td>\n",
       "      <td>3</td>\n",
       "      <td>2080.18</td>\n",
       "      <td>newest</td>\n",
       "      <td>lowest</td>\n",
       "      <td>smallest</td>\n",
       "      <td>newest-lowest-smallest</td>\n",
       "      <td>7</td>\n",
       "    </tr>\n",
       "  </tbody>\n",
       "</table>\n",
       "</div>"
      ],
      "text/plain": [
       "  CustomerID  Recency  Frequency  Monetary recency_labels frequency_labels  \\\n",
       "0    12346.0      326          2      0.00         oldest           lowest   \n",
       "1    12347.0        2          7   3124.96         newest           lowest   \n",
       "2    12348.0       75          4   1009.88         newest           lowest   \n",
       "3    12349.0       19          1   1344.17         newest           lowest   \n",
       "4    12350.0      310          1    213.30         oldest           lowest   \n",
       "5    12352.0       36         10   1469.03         newest           lowest   \n",
       "6    12353.0      204          1     71.30         medium           lowest   \n",
       "7    12354.0      232          1    848.02          older           lowest   \n",
       "8    12355.0      214          1    370.80         medium           lowest   \n",
       "9    12356.0       23          3   2080.18         newest           lowest   \n",
       "\n",
       "  monetary_labels             rfm_segment  rfm_score  \n",
       "0        smallest  oldest-lowest-smallest          3  \n",
       "1        smallest  newest-lowest-smallest          7  \n",
       "2        smallest  newest-lowest-smallest          7  \n",
       "3        smallest  newest-lowest-smallest          7  \n",
       "4        smallest  oldest-lowest-smallest          3  \n",
       "5        smallest  newest-lowest-smallest          7  \n",
       "6        smallest  medium-lowest-smallest          5  \n",
       "7        smallest   older-lowest-smallest          4  \n",
       "8        smallest  medium-lowest-smallest          5  \n",
       "9        smallest  newest-lowest-smallest          7  "
      ]
     },
     "execution_count": 135,
     "metadata": {},
     "output_type": "execute_result"
    }
   ],
   "source": [
    "recency_dict = {'newest': 5, 'newer':4, 'medium': 3, 'older':2, 'oldest':1}\n",
    "frequency_dict = {'lowest':1, 'lower':2, 'medium': 3, 'higher':4, 'highest':5}\n",
    "monetary_dict = {'smallest':1, 'smaller':2, 'medium': 3, 'larger':4, 'largest':5}\n",
    "\n",
    "df_rfm['rfm_score'] = df_rfm['recency_labels'].map(recency_dict).astype(int)+ df_rfm['frequency_labels'].map(frequency_dict).astype(int) + df_rfm['monetary_labels'].map(monetary_dict).astype(int)\n",
    "df_rfm.head(10)"
   ]
  },
  {
   "cell_type": "markdown",
   "metadata": {},
   "source": [
    "analyze RFM Segment and Score:"
   ]
  },
  {
   "cell_type": "code",
   "execution_count": 136,
   "metadata": {},
   "outputs": [
    {
     "data": {
      "image/png": "[encoded data removed]",
      "text/plain": [
       "<Figure size 720x360 with 1 Axes>"
      ]
     },
     "metadata": {
      "needs_background": "light"
     },
     "output_type": "display_data"
    }
   ],
   "source": [
    "df_rfm['rfm_segment'].value_counts().plot(kind='barh', figsize=(10, 5));"
   ]
  },
  {
   "cell_type": "code",
   "execution_count": 137,
   "metadata": {},
   "outputs": [
    {
     "data": {
      "image/png": "[encoded data removed]",
      "text/plain": [
       "<Figure size 720x360 with 1 Axes>"
      ]
     },
     "metadata": {
      "needs_background": "light"
     },
     "output_type": "display_data"
    }
   ],
   "source": [
    "df_rfm['rfm_score'].value_counts().plot(kind='barh', figsize=(10, 5));"
   ]
  },
  {
   "cell_type": "markdown",
   "metadata": {},
   "source": [
    "Week 3\n",
    "Data Modeling:\n",
    "Create clusters using k-means clustering algorithm.\n",
    "\n",
    "a. Prepare the data for the algorithm. If the data is asymmetrically distributed, manage the skewness with appropriate transformation. Standardize the data."
   ]
  },
  {
   "cell_type": "code",
   "execution_count": 138,
   "metadata": {},
   "outputs": [
    {
     "name": "stdout",
     "output_type": "stream",
     "text": [
      "(4353, 9)\n"
     ]
    },
    {
     "data": {
      "text/html": [
       "<div>\n",
       "<style scoped>\n",
       "    .dataframe tbody tr th:only-of-type {\n",
       "        vertical-align: middle;\n",
       "    }\n",
       "\n",
       "    .dataframe tbody tr th {\n",
       "        vertical-align: top;\n",
       "    }\n",
       "\n",
       "    .dataframe thead th {\n",
       "        text-align: right;\n",
       "    }\n",
       "</style>\n",
       "<table border=\"1\" class=\"dataframe\">\n",
       "  <thead>\n",
       "    <tr style=\"text-align: right;\">\n",
       "      <th></th>\n",
       "      <th>CustomerID</th>\n",
       "      <th>Recency</th>\n",
       "      <th>Frequency</th>\n",
       "      <th>Monetary</th>\n",
       "      <th>recency_labels</th>\n",
       "      <th>frequency_labels</th>\n",
       "      <th>monetary_labels</th>\n",
       "      <th>rfm_segment</th>\n",
       "      <th>rfm_score</th>\n",
       "    </tr>\n",
       "  </thead>\n",
       "  <tbody>\n",
       "    <tr>\n",
       "      <th>0</th>\n",
       "      <td>12346.0</td>\n",
       "      <td>326</td>\n",
       "      <td>2</td>\n",
       "      <td>0.00</td>\n",
       "      <td>oldest</td>\n",
       "      <td>lowest</td>\n",
       "      <td>smallest</td>\n",
       "      <td>oldest-lowest-smallest</td>\n",
       "      <td>3</td>\n",
       "    </tr>\n",
       "    <tr>\n",
       "      <th>1</th>\n",
       "      <td>12347.0</td>\n",
       "      <td>2</td>\n",
       "      <td>7</td>\n",
       "      <td>3124.96</td>\n",
       "      <td>newest</td>\n",
       "      <td>lowest</td>\n",
       "      <td>smallest</td>\n",
       "      <td>newest-lowest-smallest</td>\n",
       "      <td>7</td>\n",
       "    </tr>\n",
       "    <tr>\n",
       "      <th>2</th>\n",
       "      <td>12348.0</td>\n",
       "      <td>75</td>\n",
       "      <td>4</td>\n",
       "      <td>1009.88</td>\n",
       "      <td>newest</td>\n",
       "      <td>lowest</td>\n",
       "      <td>smallest</td>\n",
       "      <td>newest-lowest-smallest</td>\n",
       "      <td>7</td>\n",
       "    </tr>\n",
       "    <tr>\n",
       "      <th>3</th>\n",
       "      <td>12349.0</td>\n",
       "      <td>19</td>\n",
       "      <td>1</td>\n",
       "      <td>1344.17</td>\n",
       "      <td>newest</td>\n",
       "      <td>lowest</td>\n",
       "      <td>smallest</td>\n",
       "      <td>newest-lowest-smallest</td>\n",
       "      <td>7</td>\n",
       "    </tr>\n",
       "    <tr>\n",
       "      <th>4</th>\n",
       "      <td>12350.0</td>\n",
       "      <td>310</td>\n",
       "      <td>1</td>\n",
       "      <td>213.30</td>\n",
       "      <td>oldest</td>\n",
       "      <td>lowest</td>\n",
       "      <td>smallest</td>\n",
       "      <td>oldest-lowest-smallest</td>\n",
       "      <td>3</td>\n",
       "    </tr>\n",
       "  </tbody>\n",
       "</table>\n",
       "</div>"
      ],
      "text/plain": [
       "  CustomerID  Recency  Frequency  Monetary recency_labels frequency_labels  \\\n",
       "0    12346.0      326          2      0.00         oldest           lowest   \n",
       "1    12347.0        2          7   3124.96         newest           lowest   \n",
       "2    12348.0       75          4   1009.88         newest           lowest   \n",
       "3    12349.0       19          1   1344.17         newest           lowest   \n",
       "4    12350.0      310          1    213.30         oldest           lowest   \n",
       "\n",
       "  monetary_labels             rfm_segment  rfm_score  \n",
       "0        smallest  oldest-lowest-smallest          3  \n",
       "1        smallest  newest-lowest-smallest          7  \n",
       "2        smallest  newest-lowest-smallest          7  \n",
       "3        smallest  newest-lowest-smallest          7  \n",
       "4        smallest  oldest-lowest-smallest          3  "
      ]
     },
     "execution_count": 138,
     "metadata": {},
     "output_type": "execute_result"
    }
   ],
   "source": [
    "print(df_rfm.shape)\n",
    "df_rfm.head()"
   ]
  },
  {
   "cell_type": "code",
   "execution_count": 139,
   "metadata": {},
   "outputs": [
    {
     "name": "stdout",
     "output_type": "stream",
     "text": [
      "(4353, 9)\n"
     ]
    },
    {
     "data": {
      "text/html": [
       "<div>\n",
       "<style scoped>\n",
       "    .dataframe tbody tr th:only-of-type {\n",
       "        vertical-align: middle;\n",
       "    }\n",
       "\n",
       "    .dataframe tbody tr th {\n",
       "        vertical-align: top;\n",
       "    }\n",
       "\n",
       "    .dataframe thead th {\n",
       "        text-align: right;\n",
       "    }\n",
       "</style>\n",
       "<table border=\"1\" class=\"dataframe\">\n",
       "  <thead>\n",
       "    <tr style=\"text-align: right;\">\n",
       "      <th></th>\n",
       "      <th>CustomerID</th>\n",
       "      <th>Recency</th>\n",
       "      <th>Frequency</th>\n",
       "      <th>Monetary</th>\n",
       "      <th>recency_labels</th>\n",
       "      <th>frequency_labels</th>\n",
       "      <th>monetary_labels</th>\n",
       "      <th>rfm_segment</th>\n",
       "      <th>rfm_score</th>\n",
       "    </tr>\n",
       "  </thead>\n",
       "  <tbody>\n",
       "    <tr>\n",
       "      <th>0</th>\n",
       "      <td>12346.0</td>\n",
       "      <td>326</td>\n",
       "      <td>2</td>\n",
       "      <td>0.00</td>\n",
       "      <td>oldest</td>\n",
       "      <td>lowest</td>\n",
       "      <td>smallest</td>\n",
       "      <td>oldest-lowest-smallest</td>\n",
       "      <td>3</td>\n",
       "    </tr>\n",
       "    <tr>\n",
       "      <th>1</th>\n",
       "      <td>12347.0</td>\n",
       "      <td>2</td>\n",
       "      <td>7</td>\n",
       "      <td>3124.96</td>\n",
       "      <td>newest</td>\n",
       "      <td>lowest</td>\n",
       "      <td>smallest</td>\n",
       "      <td>newest-lowest-smallest</td>\n",
       "      <td>7</td>\n",
       "    </tr>\n",
       "    <tr>\n",
       "      <th>2</th>\n",
       "      <td>12348.0</td>\n",
       "      <td>75</td>\n",
       "      <td>4</td>\n",
       "      <td>1009.88</td>\n",
       "      <td>newest</td>\n",
       "      <td>lowest</td>\n",
       "      <td>smallest</td>\n",
       "      <td>newest-lowest-smallest</td>\n",
       "      <td>7</td>\n",
       "    </tr>\n",
       "    <tr>\n",
       "      <th>3</th>\n",
       "      <td>12349.0</td>\n",
       "      <td>19</td>\n",
       "      <td>1</td>\n",
       "      <td>1344.17</td>\n",
       "      <td>newest</td>\n",
       "      <td>lowest</td>\n",
       "      <td>smallest</td>\n",
       "      <td>newest-lowest-smallest</td>\n",
       "      <td>7</td>\n",
       "    </tr>\n",
       "    <tr>\n",
       "      <th>4</th>\n",
       "      <td>12350.0</td>\n",
       "      <td>310</td>\n",
       "      <td>1</td>\n",
       "      <td>213.30</td>\n",
       "      <td>oldest</td>\n",
       "      <td>lowest</td>\n",
       "      <td>smallest</td>\n",
       "      <td>oldest-lowest-smallest</td>\n",
       "      <td>3</td>\n",
       "    </tr>\n",
       "  </tbody>\n",
       "</table>\n",
       "</div>"
      ],
      "text/plain": [
       "  CustomerID  Recency  Frequency  Monetary recency_labels frequency_labels  \\\n",
       "0    12346.0      326          2      0.00         oldest           lowest   \n",
       "1    12347.0        2          7   3124.96         newest           lowest   \n",
       "2    12348.0       75          4   1009.88         newest           lowest   \n",
       "3    12349.0       19          1   1344.17         newest           lowest   \n",
       "4    12350.0      310          1    213.30         oldest           lowest   \n",
       "\n",
       "  monetary_labels             rfm_segment  rfm_score  \n",
       "0        smallest  oldest-lowest-smallest          3  \n",
       "1        smallest  newest-lowest-smallest          7  \n",
       "2        smallest  newest-lowest-smallest          7  \n",
       "3        smallest  newest-lowest-smallest          7  \n",
       "4        smallest  oldest-lowest-smallest          3  "
      ]
     },
     "execution_count": 139,
     "metadata": {},
     "output_type": "execute_result"
    }
   ],
   "source": [
    "print(df_rfm.shape)\n",
    "df_rfm.head()"
   ]
  },
  {
   "cell_type": "code",
   "execution_count": 140,
   "metadata": {},
   "outputs": [
    {
     "data": {
      "image/png": "[encoded data removed]",
      "text/plain": [
       "<Figure size 864x432 with 6 Axes>"
      ]
     },
     "metadata": {
      "needs_background": "light"
     },
     "output_type": "display_data"
    }
   ],
   "source": [
    "plt.figure(figsize=(12,6))\n",
    "\n",
    "for i, feature in enumerate(['Recency', 'Frequency', 'Monetary']):\n",
    "    plt.subplot(2,3,i+1)\n",
    "    df_rfm[feature].plot(kind='box')\n",
    "    plt.subplot(2,3,i+1+3)\n",
    "    df_rfm[feature].plot(kind='hist')"
   ]
  },
  {
   "cell_type": "markdown",
   "metadata": {},
   "source": [
    "Outliers: Frequency and Monetary features in above data seem to have lot of outliers. Lets drop them."
   ]
  },
  {
   "cell_type": "code",
   "execution_count": 141,
   "metadata": {},
   "outputs": [
    {
     "data": {
      "text/plain": [
       "(4332, 9)"
      ]
     },
     "execution_count": 141,
     "metadata": {},
     "output_type": "execute_result"
    }
   ],
   "source": [
    "df_rfm = df_rfm[(df_rfm['Frequency']<60) & (df_rfm['Monetary']<40000)]\n",
    "df_rfm.shape"
   ]
  },
  {
   "cell_type": "markdown",
   "metadata": {},
   "source": [
    "21 customers removed as outliers"
   ]
  },
  {
   "cell_type": "code",
   "execution_count": 142,
   "metadata": {},
   "outputs": [
    {
     "data": {
      "image/png": "[encoded data removed]",
      "text/plain": [
       "<Figure size 864x432 with 6 Axes>"
      ]
     },
     "metadata": {
      "needs_background": "light"
     },
     "output_type": "display_data"
    }
   ],
   "source": [
    "plt.figure(figsize=(12,6))\n",
    "\n",
    "for i, feature in enumerate(['Recency', 'Frequency', 'Monetary']):\n",
    "    plt.subplot(2,3,i+1)\n",
    "    df_rfm[feature].plot(kind='box')\n",
    "    plt.subplot(2,3,i+1+3)\n",
    "    df_rfm[feature].plot(kind='hist')"
   ]
  },
  {
   "cell_type": "markdown",
   "metadata": {},
   "source": [
    "Log Transformation: Now since all three features have right skewed data therefore we will use log transformation of these features in our model."
   ]
  },
  {
   "cell_type": "code",
   "execution_count": 143,
   "metadata": {},
   "outputs": [],
   "source": [
    "df_rfm_log_trans = pd.DataFrame()\n",
    "df_rfm_log_trans['Recency'] = np.log(df_rfm['Recency'])\n",
    "df_rfm_log_trans['Frequency'] = np.log(df_rfm['Frequency'])\n",
    "df_rfm_log_trans['Monetary'] = np.log(df_rfm['Monetary']-df_rfm['Monetary'].min()+1)"
   ]
  },
  {
   "cell_type": "markdown",
   "metadata": {},
   "source": [
    "Standard Scalar Transformation: It is extremely important to rescale the features so that they have a comparable scale."
   ]
  },
  {
   "cell_type": "code",
   "execution_count": 144,
   "metadata": {},
   "outputs": [
    {
     "data": {
      "text/html": [
       "<div>\n",
       "<style scoped>\n",
       "    .dataframe tbody tr th:only-of-type {\n",
       "        vertical-align: middle;\n",
       "    }\n",
       "\n",
       "    .dataframe tbody tr th {\n",
       "        vertical-align: top;\n",
       "    }\n",
       "\n",
       "    .dataframe thead th {\n",
       "        text-align: right;\n",
       "    }\n",
       "</style>\n",
       "<table border=\"1\" class=\"dataframe\">\n",
       "  <thead>\n",
       "    <tr style=\"text-align: right;\">\n",
       "      <th></th>\n",
       "      <th>Recency</th>\n",
       "      <th>Frequency</th>\n",
       "      <th>Monetary</th>\n",
       "    </tr>\n",
       "  </thead>\n",
       "  <tbody>\n",
       "    <tr>\n",
       "      <th>0</th>\n",
       "      <td>1.400876</td>\n",
       "      <td>-0.356046</td>\n",
       "      <td>-0.671148</td>\n",
       "    </tr>\n",
       "    <tr>\n",
       "      <th>1</th>\n",
       "      <td>-2.113713</td>\n",
       "      <td>1.016963</td>\n",
       "      <td>1.353127</td>\n",
       "    </tr>\n",
       "    <tr>\n",
       "      <th>2</th>\n",
       "      <td>0.387012</td>\n",
       "      <td>0.403633</td>\n",
       "      <td>0.110896</td>\n",
       "    </tr>\n",
       "    <tr>\n",
       "      <th>3</th>\n",
       "      <td>-0.560365</td>\n",
       "      <td>-1.115725</td>\n",
       "      <td>0.337164</td>\n",
       "    </tr>\n",
       "    <tr>\n",
       "      <th>4</th>\n",
       "      <td>1.366153</td>\n",
       "      <td>-1.115725</td>\n",
       "      <td>-0.491635</td>\n",
       "    </tr>\n",
       "  </tbody>\n",
       "</table>\n",
       "</div>"
      ],
      "text/plain": [
       "    Recency  Frequency  Monetary\n",
       "0  1.400876  -0.356046 -0.671148\n",
       "1 -2.113713   1.016963  1.353127\n",
       "2  0.387012   0.403633  0.110896\n",
       "3 -0.560365  -1.115725  0.337164\n",
       "4  1.366153  -1.115725 -0.491635"
      ]
     },
     "execution_count": 144,
     "metadata": {},
     "output_type": "execute_result"
    }
   ],
   "source": [
    "scaler = StandardScaler()\n",
    "\n",
    "df_rfm_scaled = scaler.fit_transform(df_rfm_log_trans[['Recency', 'Frequency', 'Monetary']])\n",
    "df_rfm_scaled\n",
    "\n",
    "df_rfm_scaled = pd.DataFrame(df_rfm_scaled)\n",
    "df_rfm_scaled.columns = ['Recency', 'Frequency', 'Monetary']\n",
    "df_rfm_scaled.head()"
   ]
  },
  {
   "cell_type": "markdown",
   "metadata": {},
   "source": [
    "# Build K-Means Clustering Model and Decide the optimum number of clusters to be formed."
   ]
  },
  {
   "cell_type": "code",
   "execution_count": 145,
   "metadata": {},
   "outputs": [
    {
     "data": {
      "text/plain": [
       "KMeans(max_iter=50, n_clusters=3)"
      ]
     },
     "execution_count": 145,
     "metadata": {},
     "output_type": "execute_result"
    }
   ],
   "source": [
    "# k-means with some arbitrary k\n",
    "kmeans = KMeans(n_clusters=3, max_iter=50)\n",
    "kmeans.fit(df_rfm_scaled)"
   ]
  },
  {
   "cell_type": "code",
   "execution_count": 146,
   "metadata": {},
   "outputs": [
    {
     "data": {
      "text/plain": [
       "array([0, 1, 2, ..., 2, 1, 2], dtype=int32)"
      ]
     },
     "execution_count": 146,
     "metadata": {},
     "output_type": "execute_result"
    }
   ],
   "source": [
    "kmeans.labels_"
   ]
  },
  {
   "cell_type": "code",
   "execution_count": 147,
   "metadata": {},
   "outputs": [
    {
     "data": {
      "image/png": "[encoded data removed]",
      "text/plain": [
       "<Figure size 432x288 with 1 Axes>"
      ]
     },
     "metadata": {
      "needs_background": "light"
     },
     "output_type": "display_data"
    }
   ],
   "source": [
    "# Finding the Optimal Number of Clusters with the help of Elbow Curve/ SSD\n",
    "ssd = []\n",
    "range_n_clusters = [2, 3, 4, 5, 6, 7, 8, 9, 10, 11, 12]\n",
    "for num_clusters in range_n_clusters:\n",
    "    kmeans = KMeans(n_clusters=num_clusters, max_iter=100)\n",
    "    kmeans.fit(df_rfm_scaled)\n",
    "    \n",
    "    ssd.append(kmeans.inertia_)\n",
    "    \n",
    "# plot the SSDs for each n_clusters\n",
    "plt.plot(range_n_clusters,ssd);"
   ]
  },
  {
   "cell_type": "code",
   "execution_count": 148,
   "metadata": {},
   "outputs": [
    {
     "data": {
      "text/html": [
       "<div>\n",
       "<style scoped>\n",
       "    .dataframe tbody tr th:only-of-type {\n",
       "        vertical-align: middle;\n",
       "    }\n",
       "\n",
       "    .dataframe tbody tr th {\n",
       "        vertical-align: top;\n",
       "    }\n",
       "\n",
       "    .dataframe thead th {\n",
       "        text-align: right;\n",
       "    }\n",
       "</style>\n",
       "<table border=\"1\" class=\"dataframe\">\n",
       "  <thead>\n",
       "    <tr style=\"text-align: right;\">\n",
       "      <th></th>\n",
       "      <th>clusters</th>\n",
       "      <th>intertia</th>\n",
       "    </tr>\n",
       "  </thead>\n",
       "  <tbody>\n",
       "    <tr>\n",
       "      <th>0</th>\n",
       "      <td>2</td>\n",
       "      <td>7295.445493</td>\n",
       "    </tr>\n",
       "    <tr>\n",
       "      <th>1</th>\n",
       "      <td>3</td>\n",
       "      <td>5552.489257</td>\n",
       "    </tr>\n",
       "    <tr>\n",
       "      <th>2</th>\n",
       "      <td>4</td>\n",
       "      <td>4580.192596</td>\n",
       "    </tr>\n",
       "    <tr>\n",
       "      <th>3</th>\n",
       "      <td>5</td>\n",
       "      <td>3752.905040</td>\n",
       "    </tr>\n",
       "    <tr>\n",
       "      <th>4</th>\n",
       "      <td>6</td>\n",
       "      <td>3040.626290</td>\n",
       "    </tr>\n",
       "    <tr>\n",
       "      <th>5</th>\n",
       "      <td>7</td>\n",
       "      <td>2560.328623</td>\n",
       "    </tr>\n",
       "    <tr>\n",
       "      <th>6</th>\n",
       "      <td>8</td>\n",
       "      <td>2255.975861</td>\n",
       "    </tr>\n",
       "    <tr>\n",
       "      <th>7</th>\n",
       "      <td>9</td>\n",
       "      <td>2004.758962</td>\n",
       "    </tr>\n",
       "    <tr>\n",
       "      <th>8</th>\n",
       "      <td>10</td>\n",
       "      <td>1802.721254</td>\n",
       "    </tr>\n",
       "    <tr>\n",
       "      <th>9</th>\n",
       "      <td>11</td>\n",
       "      <td>1660.255591</td>\n",
       "    </tr>\n",
       "    <tr>\n",
       "      <th>10</th>\n",
       "      <td>12</td>\n",
       "      <td>1516.024533</td>\n",
       "    </tr>\n",
       "  </tbody>\n",
       "</table>\n",
       "</div>"
      ],
      "text/plain": [
       "    clusters     intertia\n",
       "0          2  7295.445493\n",
       "1          3  5552.489257\n",
       "2          4  4580.192596\n",
       "3          5  3752.905040\n",
       "4          6  3040.626290\n",
       "5          7  2560.328623\n",
       "6          8  2255.975861\n",
       "7          9  2004.758962\n",
       "8         10  1802.721254\n",
       "9         11  1660.255591\n",
       "10        12  1516.024533"
      ]
     },
     "execution_count": 148,
     "metadata": {},
     "output_type": "execute_result"
    }
   ],
   "source": [
    "# Creating dataframe for exporting to create visualization in tableau later\n",
    "df_inertia = pd.DataFrame(list(zip(range_n_clusters, ssd)), columns=['clusters', 'intertia'])\n",
    "df_inertia"
   ]
  },
  {
   "cell_type": "code",
   "execution_count": 149,
   "metadata": {},
   "outputs": [
    {
     "name": "stdout",
     "output_type": "stream",
     "text": [
      "For n_clusters=2, the silhouette score is 0.44213381508544686\n",
      "For n_clusters=3, the silhouette score is 0.39108351410795406\n",
      "For n_clusters=4, the silhouette score is 0.3929396304053463\n",
      "For n_clusters=5, the silhouette score is 0.3666733256568387\n",
      "For n_clusters=6, the silhouette score is 0.35017380743196763\n",
      "For n_clusters=7, the silhouette score is 0.35134903938244527\n",
      "For n_clusters=8, the silhouette score is 0.35373826961422816\n",
      "For n_clusters=9, the silhouette score is 0.35699476349422654\n",
      "For n_clusters=10, the silhouette score is 0.3671283076402524\n"
     ]
    }
   ],
   "source": [
    "  # Finding the Optimal Number of Clusters with the help of Silhouette Analysis\n",
    "range_n_clusters = [2, 3, 4, 5, 6, 7, 8, 9, 10]\n",
    "\n",
    "for num_clusters in range_n_clusters:    \n",
    "    kmeans = KMeans(n_clusters=num_clusters, max_iter=50)\n",
    "    kmeans.fit(df_rfm_scaled)\n",
    "    \n",
    "    cluster_labels = kmeans.labels_\n",
    "    \n",
    "    silhouette_avg = silhouette_score(df_rfm_scaled, cluster_labels)\n",
    "    print(\"For n_clusters={0}, the silhouette score is {1}\".format(num_clusters, silhouette_avg))"
   ]
  },
  {
   "cell_type": "markdown",
   "metadata": {},
   "source": [
    "We can select optimum number of clusters as 3 in our final model\n"
   ]
  },
  {
   "cell_type": "code",
   "execution_count": 150,
   "metadata": {},
   "outputs": [
    {
     "data": {
      "text/plain": [
       "KMeans(max_iter=50, n_clusters=3)"
      ]
     },
     "execution_count": 150,
     "metadata": {},
     "output_type": "execute_result"
    }
   ],
   "source": [
    "# Final model with k=3\n",
    "kmeans = KMeans(n_clusters=3, max_iter=50)\n",
    "kmeans.fit(df_rfm_scaled)"
   ]
  },
  {
   "cell_type": "markdown",
   "metadata": {},
   "source": [
    "c. Analyze these clusters and comment on the results."
   ]
  },
  {
   "cell_type": "code",
   "execution_count": 151,
   "metadata": {},
   "outputs": [
    {
     "data": {
      "text/html": [
       "<div>\n",
       "<style scoped>\n",
       "    .dataframe tbody tr th:only-of-type {\n",
       "        vertical-align: middle;\n",
       "    }\n",
       "\n",
       "    .dataframe tbody tr th {\n",
       "        vertical-align: top;\n",
       "    }\n",
       "\n",
       "    .dataframe thead th {\n",
       "        text-align: right;\n",
       "    }\n",
       "</style>\n",
       "<table border=\"1\" class=\"dataframe\">\n",
       "  <thead>\n",
       "    <tr style=\"text-align: right;\">\n",
       "      <th></th>\n",
       "      <th>CustomerID</th>\n",
       "      <th>Recency</th>\n",
       "      <th>Frequency</th>\n",
       "      <th>Monetary</th>\n",
       "      <th>recency_labels</th>\n",
       "      <th>frequency_labels</th>\n",
       "      <th>monetary_labels</th>\n",
       "      <th>rfm_segment</th>\n",
       "      <th>rfm_score</th>\n",
       "      <th>Cluster_Id</th>\n",
       "    </tr>\n",
       "  </thead>\n",
       "  <tbody>\n",
       "    <tr>\n",
       "      <th>0</th>\n",
       "      <td>12346.0</td>\n",
       "      <td>326</td>\n",
       "      <td>2</td>\n",
       "      <td>0.00</td>\n",
       "      <td>oldest</td>\n",
       "      <td>lowest</td>\n",
       "      <td>smallest</td>\n",
       "      <td>oldest-lowest-smallest</td>\n",
       "      <td>3</td>\n",
       "      <td>0</td>\n",
       "    </tr>\n",
       "    <tr>\n",
       "      <th>1</th>\n",
       "      <td>12347.0</td>\n",
       "      <td>2</td>\n",
       "      <td>7</td>\n",
       "      <td>3124.96</td>\n",
       "      <td>newest</td>\n",
       "      <td>lowest</td>\n",
       "      <td>smallest</td>\n",
       "      <td>newest-lowest-smallest</td>\n",
       "      <td>7</td>\n",
       "      <td>1</td>\n",
       "    </tr>\n",
       "    <tr>\n",
       "      <th>2</th>\n",
       "      <td>12348.0</td>\n",
       "      <td>75</td>\n",
       "      <td>4</td>\n",
       "      <td>1009.88</td>\n",
       "      <td>newest</td>\n",
       "      <td>lowest</td>\n",
       "      <td>smallest</td>\n",
       "      <td>newest-lowest-smallest</td>\n",
       "      <td>7</td>\n",
       "      <td>2</td>\n",
       "    </tr>\n",
       "    <tr>\n",
       "      <th>3</th>\n",
       "      <td>12349.0</td>\n",
       "      <td>19</td>\n",
       "      <td>1</td>\n",
       "      <td>1344.17</td>\n",
       "      <td>newest</td>\n",
       "      <td>lowest</td>\n",
       "      <td>smallest</td>\n",
       "      <td>newest-lowest-smallest</td>\n",
       "      <td>7</td>\n",
       "      <td>0</td>\n",
       "    </tr>\n",
       "    <tr>\n",
       "      <th>4</th>\n",
       "      <td>12350.0</td>\n",
       "      <td>310</td>\n",
       "      <td>1</td>\n",
       "      <td>213.30</td>\n",
       "      <td>oldest</td>\n",
       "      <td>lowest</td>\n",
       "      <td>smallest</td>\n",
       "      <td>oldest-lowest-smallest</td>\n",
       "      <td>3</td>\n",
       "      <td>0</td>\n",
       "    </tr>\n",
       "  </tbody>\n",
       "</table>\n",
       "</div>"
      ],
      "text/plain": [
       "  CustomerID  Recency  Frequency  Monetary recency_labels frequency_labels  \\\n",
       "0    12346.0      326          2      0.00         oldest           lowest   \n",
       "1    12347.0        2          7   3124.96         newest           lowest   \n",
       "2    12348.0       75          4   1009.88         newest           lowest   \n",
       "3    12349.0       19          1   1344.17         newest           lowest   \n",
       "4    12350.0      310          1    213.30         oldest           lowest   \n",
       "\n",
       "  monetary_labels             rfm_segment  rfm_score  Cluster_Id  \n",
       "0        smallest  oldest-lowest-smallest          3           0  \n",
       "1        smallest  newest-lowest-smallest          7           1  \n",
       "2        smallest  newest-lowest-smallest          7           2  \n",
       "3        smallest  newest-lowest-smallest          7           0  \n",
       "4        smallest  oldest-lowest-smallest          3           0  "
      ]
     },
     "execution_count": 151,
     "metadata": {},
     "output_type": "execute_result"
    }
   ],
   "source": [
    "# assign the label\n",
    "df_rfm['Cluster_Id'] = kmeans.labels_\n",
    "df_rfm.head()"
   ]
  },
  {
   "cell_type": "code",
   "execution_count": 152,
   "metadata": {},
   "outputs": [
    {
     "data": {
      "image/png": "[encoded data removed]",
      "text/plain": [
       "<Figure size 432x288 with 1 Axes>"
      ]
     },
     "metadata": {
      "needs_background": "light"
     },
     "output_type": "display_data"
    }
   ],
   "source": [
    "# Box plot to visualize Cluster Id vs Monetary\n",
    "sns.boxplot(x='Cluster_Id', y='Monetary', data=df_rfm);"
   ]
  },
  {
   "cell_type": "code",
   "execution_count": 153,
   "metadata": {},
   "outputs": [
    {
     "data": {
      "image/png": "[encoded data removed]",
      "text/plain": [
       "<Figure size 432x288 with 1 Axes>"
      ]
     },
     "metadata": {
      "needs_background": "light"
     },
     "output_type": "display_data"
    }
   ],
   "source": [
    "# Box plot to visualize Cluster Id vs Frequency\n",
    "sns.boxplot(x='Cluster_Id', y='Frequency', data=df_rfm);"
   ]
  },
  {
   "cell_type": "code",
   "execution_count": 154,
   "metadata": {},
   "outputs": [
    {
     "data": {
      "image/png": "[encoded data removed]",
      "text/plain": [
       "<Figure size 432x288 with 1 Axes>"
      ]
     },
     "metadata": {
      "needs_background": "light"
     },
     "output_type": "display_data"
    }
   ],
   "source": [
    "# Box plot to visualize Cluster Id vs Recency\n",
    "sns.boxplot(x='Cluster_Id', y='Recency', data=df_rfm);"
   ]
  },
  {
   "cell_type": "markdown",
   "metadata": {},
   "source": [
    "Inference:\n",
    "As we can observe from above boxplots that our model has nicely created 3 segements of customer with the interpretation as below:\n",
    "\n",
    "Customers with Cluster Id 0 are less frequent buyers with low monetary expenditure and also they have not purchased anything in recent time and hence least important for business.\n",
    "Customers with Cluster Id 1 are the customers having Recency, Frequency and Monetary score in the medium range.\n",
    "Customers with Cluster Id 2 are the most frequent buyers, spending high amount and recently placing orders so they are the most important customers from business point of view.\n",
    "Week 4:\n",
    "Data Reporting:\n",
    "\n",
    "Create a dashboard in tableau by choosing appropriate chart types and metrics useful for the business. The dashboard must entail the following:\n",
    "\n",
    " a. Country-wise analysis to demonstrate average spend. Use a bar chart to show the monthly figures\n",
    " b. Bar graph of top 15 products which are mostly ordered by the users to show the number of products sold\n",
    " c. Bar graph to show the count of orders vs. hours throughout the day\n",
    " d. Plot the distribution of RFM values using histogram and frequency charts\n",
    " e. Plot error (cost) vs. number of clusters selected\n",
    " f. Visualize to compare the RFM values of the clusters using heatmap"
   ]
  },
  {
   "cell_type": "code",
   "execution_count": 155,
   "metadata": {},
   "outputs": [],
   "source": [
    "# Writing dataframe to excel file for creating visualization in tableau\n",
    "writer = pd.ExcelWriter('C:\\\\Users\\\\mgupt\\\\mgpython\\\\Capstone Project\\\\Retail - PGP\\\\output_data.xlsx', engine='xlsxwriter')\n",
    "\n",
    "df.to_excel(writer, sheet_name='master_data', index=False)\n",
    "df_rfm.to_excel(writer, sheet_name='rfm_data', index=False)\n",
    "df_inertia.to_excel(writer, sheet_name='inertia', index=False)\n",
    "writer.save()"
   ]
  },
  {
   "cell_type": "code",
   "execution_count": null,
   "metadata": {},
   "outputs": [],
   "source": [
    "product_desc = pd.read_excel(\"Online Retail.xlsx\")\n",
    "product_desc = product_desc[['StockCode', 'Description']]\n",
    "product_desc = product_desc.drop_duplicates()\n",
    "product_desc.to_csv('product_desc.csv', index=False)"
   ]
  },
  {
   "cell_type": "code",
   "execution_count": null,
   "metadata": {},
   "outputs": [],
   "source": []
  }
 ],
 "metadata": {
  "kernelspec": {
   "display_name": "Python 3",
   "language": "python",
   "name": "python3"
  },
  "language_info": {
   "codemirror_mode": {
    "name": "ipython",
    "version": 3
   },
   "file_extension": ".py",
   "mimetype": "text/x-python",
   "name": "python",
   "nbconvert_exporter": "python",
   "pygments_lexer": "ipython3",
   "version": "3.7.6"
  }
 },
 "nbformat": 4,
 "nbformat_minor": 4
}
